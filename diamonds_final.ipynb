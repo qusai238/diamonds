{
 "cells": [
  {
   "cell_type": "code",
   "execution_count": 1,
   "metadata": {
    "executionInfo": {
     "elapsed": 1548,
     "status": "ok",
     "timestamp": 1616000457845,
     "user": {
      "displayName": "Heyam Almahmoud",
      "photoUrl": "https://lh3.googleusercontent.com/a-/AOh14Gg3TdTa0oXRsh0QRwgJ47kD1bKUhrWz9hjUdC-yMg=s64",
      "userId": "04220665860273086704"
     },
     "user_tz": -120
    },
    "id": "Ln9exuH1FdBf"
   },
   "outputs": [],
   "source": [
    "import numpy as np \n",
    "import pandas as pd \n",
    "import matplotlib.pyplot as plt\n",
    "import seaborn as sns\n",
    "from sklearn.model_selection import train_test_split \n",
    "from sklearn.linear_model import LinearRegression\n",
    "from sklearn.ensemble import RandomForestRegressor\n",
    "from sklearn import tree\n",
    "from sklearn import metrics\n",
    "from sklearn.metrics import mean_squared_error\n",
    "from sklearn.metrics import r2_score"
   ]
  },
  {
   "cell_type": "code",
   "execution_count": 2,
   "metadata": {
    "colab": {
     "base_uri": "https://localhost:8080/",
     "height": 204
    },
    "executionInfo": {
     "elapsed": 1148,
     "status": "ok",
     "timestamp": 1616000462479,
     "user": {
      "displayName": "Heyam Almahmoud",
      "photoUrl": "https://lh3.googleusercontent.com/a-/AOh14Gg3TdTa0oXRsh0QRwgJ47kD1bKUhrWz9hjUdC-yMg=s64",
      "userId": "04220665860273086704"
     },
     "user_tz": -120
    },
    "id": "t9-Yu5HKFdBj",
    "outputId": "f9838a3e-e3d8-43e0-9a93-05e8358f7eb3"
   },
   "outputs": [
    {
     "data": {
      "text/html": [
       "<div>\n",
       "<style scoped>\n",
       "    .dataframe tbody tr th:only-of-type {\n",
       "        vertical-align: middle;\n",
       "    }\n",
       "\n",
       "    .dataframe tbody tr th {\n",
       "        vertical-align: top;\n",
       "    }\n",
       "\n",
       "    .dataframe thead th {\n",
       "        text-align: right;\n",
       "    }\n",
       "</style>\n",
       "<table border=\"1\" class=\"dataframe\">\n",
       "  <thead>\n",
       "    <tr style=\"text-align: right;\">\n",
       "      <th></th>\n",
       "      <th>Unnamed: 0</th>\n",
       "      <th>carat</th>\n",
       "      <th>cut</th>\n",
       "      <th>color</th>\n",
       "      <th>clarity</th>\n",
       "      <th>depth</th>\n",
       "      <th>table</th>\n",
       "      <th>price</th>\n",
       "      <th>x</th>\n",
       "      <th>y</th>\n",
       "      <th>z</th>\n",
       "    </tr>\n",
       "  </thead>\n",
       "  <tbody>\n",
       "    <tr>\n",
       "      <th>0</th>\n",
       "      <td>1</td>\n",
       "      <td>0.23</td>\n",
       "      <td>Ideal</td>\n",
       "      <td>E</td>\n",
       "      <td>SI2</td>\n",
       "      <td>61.5</td>\n",
       "      <td>55.0</td>\n",
       "      <td>326</td>\n",
       "      <td>3.95</td>\n",
       "      <td>3.98</td>\n",
       "      <td>2.43</td>\n",
       "    </tr>\n",
       "    <tr>\n",
       "      <th>1</th>\n",
       "      <td>2</td>\n",
       "      <td>0.21</td>\n",
       "      <td>Premium</td>\n",
       "      <td>E</td>\n",
       "      <td>SI1</td>\n",
       "      <td>59.8</td>\n",
       "      <td>61.0</td>\n",
       "      <td>326</td>\n",
       "      <td>3.89</td>\n",
       "      <td>3.84</td>\n",
       "      <td>2.31</td>\n",
       "    </tr>\n",
       "    <tr>\n",
       "      <th>2</th>\n",
       "      <td>3</td>\n",
       "      <td>0.23</td>\n",
       "      <td>Good</td>\n",
       "      <td>E</td>\n",
       "      <td>VS1</td>\n",
       "      <td>56.9</td>\n",
       "      <td>65.0</td>\n",
       "      <td>327</td>\n",
       "      <td>4.05</td>\n",
       "      <td>4.07</td>\n",
       "      <td>2.31</td>\n",
       "    </tr>\n",
       "    <tr>\n",
       "      <th>3</th>\n",
       "      <td>4</td>\n",
       "      <td>0.29</td>\n",
       "      <td>Premium</td>\n",
       "      <td>I</td>\n",
       "      <td>VS2</td>\n",
       "      <td>62.4</td>\n",
       "      <td>58.0</td>\n",
       "      <td>334</td>\n",
       "      <td>4.20</td>\n",
       "      <td>4.23</td>\n",
       "      <td>2.63</td>\n",
       "    </tr>\n",
       "    <tr>\n",
       "      <th>4</th>\n",
       "      <td>5</td>\n",
       "      <td>0.31</td>\n",
       "      <td>Good</td>\n",
       "      <td>J</td>\n",
       "      <td>SI2</td>\n",
       "      <td>63.3</td>\n",
       "      <td>58.0</td>\n",
       "      <td>335</td>\n",
       "      <td>4.34</td>\n",
       "      <td>4.35</td>\n",
       "      <td>2.75</td>\n",
       "    </tr>\n",
       "  </tbody>\n",
       "</table>\n",
       "</div>"
      ],
      "text/plain": [
       "   Unnamed: 0  carat      cut color clarity  depth  table  price     x     y  \\\n",
       "0           1   0.23    Ideal     E     SI2   61.5   55.0    326  3.95  3.98   \n",
       "1           2   0.21  Premium     E     SI1   59.8   61.0    326  3.89  3.84   \n",
       "2           3   0.23     Good     E     VS1   56.9   65.0    327  4.05  4.07   \n",
       "3           4   0.29  Premium     I     VS2   62.4   58.0    334  4.20  4.23   \n",
       "4           5   0.31     Good     J     SI2   63.3   58.0    335  4.34  4.35   \n",
       "\n",
       "      z  \n",
       "0  2.43  \n",
       "1  2.31  \n",
       "2  2.31  \n",
       "3  2.63  \n",
       "4  2.75  "
      ]
     },
     "execution_count": 2,
     "metadata": {},
     "output_type": "execute_result"
    }
   ],
   "source": [
    "df= pd.read_csv('diamonds.csv')\n",
    "df.head()"
   ]
  },
  {
   "cell_type": "code",
   "execution_count": 3,
   "metadata": {
    "colab": {
     "base_uri": "https://localhost:8080/",
     "height": 204
    },
    "executionInfo": {
     "elapsed": 1012,
     "status": "ok",
     "timestamp": 1616000469742,
     "user": {
      "displayName": "Heyam Almahmoud",
      "photoUrl": "https://lh3.googleusercontent.com/a-/AOh14Gg3TdTa0oXRsh0QRwgJ47kD1bKUhrWz9hjUdC-yMg=s64",
      "userId": "04220665860273086704"
     },
     "user_tz": -120
    },
    "id": "3VPOeb_sFdBk",
    "outputId": "f20f0d95-af3f-4633-9c33-6d321539eb2b"
   },
   "outputs": [
    {
     "data": {
      "text/html": [
       "<div>\n",
       "<style scoped>\n",
       "    .dataframe tbody tr th:only-of-type {\n",
       "        vertical-align: middle;\n",
       "    }\n",
       "\n",
       "    .dataframe tbody tr th {\n",
       "        vertical-align: top;\n",
       "    }\n",
       "\n",
       "    .dataframe thead th {\n",
       "        text-align: right;\n",
       "    }\n",
       "</style>\n",
       "<table border=\"1\" class=\"dataframe\">\n",
       "  <thead>\n",
       "    <tr style=\"text-align: right;\">\n",
       "      <th></th>\n",
       "      <th>carat</th>\n",
       "      <th>cut</th>\n",
       "      <th>color</th>\n",
       "      <th>clarity</th>\n",
       "      <th>depth</th>\n",
       "      <th>table</th>\n",
       "      <th>price</th>\n",
       "      <th>x</th>\n",
       "      <th>y</th>\n",
       "      <th>z</th>\n",
       "    </tr>\n",
       "  </thead>\n",
       "  <tbody>\n",
       "    <tr>\n",
       "      <th>0</th>\n",
       "      <td>0.23</td>\n",
       "      <td>Ideal</td>\n",
       "      <td>E</td>\n",
       "      <td>SI2</td>\n",
       "      <td>61.5</td>\n",
       "      <td>55.0</td>\n",
       "      <td>326</td>\n",
       "      <td>3.95</td>\n",
       "      <td>3.98</td>\n",
       "      <td>2.43</td>\n",
       "    </tr>\n",
       "    <tr>\n",
       "      <th>1</th>\n",
       "      <td>0.21</td>\n",
       "      <td>Premium</td>\n",
       "      <td>E</td>\n",
       "      <td>SI1</td>\n",
       "      <td>59.8</td>\n",
       "      <td>61.0</td>\n",
       "      <td>326</td>\n",
       "      <td>3.89</td>\n",
       "      <td>3.84</td>\n",
       "      <td>2.31</td>\n",
       "    </tr>\n",
       "    <tr>\n",
       "      <th>2</th>\n",
       "      <td>0.23</td>\n",
       "      <td>Good</td>\n",
       "      <td>E</td>\n",
       "      <td>VS1</td>\n",
       "      <td>56.9</td>\n",
       "      <td>65.0</td>\n",
       "      <td>327</td>\n",
       "      <td>4.05</td>\n",
       "      <td>4.07</td>\n",
       "      <td>2.31</td>\n",
       "    </tr>\n",
       "    <tr>\n",
       "      <th>3</th>\n",
       "      <td>0.29</td>\n",
       "      <td>Premium</td>\n",
       "      <td>I</td>\n",
       "      <td>VS2</td>\n",
       "      <td>62.4</td>\n",
       "      <td>58.0</td>\n",
       "      <td>334</td>\n",
       "      <td>4.20</td>\n",
       "      <td>4.23</td>\n",
       "      <td>2.63</td>\n",
       "    </tr>\n",
       "    <tr>\n",
       "      <th>4</th>\n",
       "      <td>0.31</td>\n",
       "      <td>Good</td>\n",
       "      <td>J</td>\n",
       "      <td>SI2</td>\n",
       "      <td>63.3</td>\n",
       "      <td>58.0</td>\n",
       "      <td>335</td>\n",
       "      <td>4.34</td>\n",
       "      <td>4.35</td>\n",
       "      <td>2.75</td>\n",
       "    </tr>\n",
       "  </tbody>\n",
       "</table>\n",
       "</div>"
      ],
      "text/plain": [
       "   carat      cut color clarity  depth  table  price     x     y     z\n",
       "0   0.23    Ideal     E     SI2   61.5   55.0    326  3.95  3.98  2.43\n",
       "1   0.21  Premium     E     SI1   59.8   61.0    326  3.89  3.84  2.31\n",
       "2   0.23     Good     E     VS1   56.9   65.0    327  4.05  4.07  2.31\n",
       "3   0.29  Premium     I     VS2   62.4   58.0    334  4.20  4.23  2.63\n",
       "4   0.31     Good     J     SI2   63.3   58.0    335  4.34  4.35  2.75"
      ]
     },
     "execution_count": 3,
     "metadata": {},
     "output_type": "execute_result"
    }
   ],
   "source": [
    "df.drop('Unnamed: 0',axis=1,inplace=True)\n",
    "df.head()"
   ]
  },
  {
   "cell_type": "code",
   "execution_count": 4,
   "metadata": {
    "colab": {
     "base_uri": "https://localhost:8080/"
    },
    "executionInfo": {
     "elapsed": 1003,
     "status": "ok",
     "timestamp": 1616000210364,
     "user": {
      "displayName": "Heyam Almahmoud",
      "photoUrl": "https://lh3.googleusercontent.com/a-/AOh14Gg3TdTa0oXRsh0QRwgJ47kD1bKUhrWz9hjUdC-yMg=s64",
      "userId": "04220665860273086704"
     },
     "user_tz": -120
    },
    "id": "4IJYzmv5FdBl",
    "outputId": "e6f920d8-c0ee-4cfe-d589-2fcceca63e07"
   },
   "outputs": [
    {
     "name": "stdout",
     "output_type": "stream",
     "text": [
      "<class 'pandas.core.frame.DataFrame'>\n",
      "RangeIndex: 53940 entries, 0 to 53939\n",
      "Data columns (total 10 columns):\n",
      " #   Column   Non-Null Count  Dtype  \n",
      "---  ------   --------------  -----  \n",
      " 0   carat    53940 non-null  float64\n",
      " 1   cut      53940 non-null  object \n",
      " 2   color    53940 non-null  object \n",
      " 3   clarity  53940 non-null  object \n",
      " 4   depth    53940 non-null  float64\n",
      " 5   table    53940 non-null  float64\n",
      " 6   price    53940 non-null  int64  \n",
      " 7   x        53940 non-null  float64\n",
      " 8   y        53940 non-null  float64\n",
      " 9   z        53940 non-null  float64\n",
      "dtypes: float64(6), int64(1), object(3)\n",
      "memory usage: 4.1+ MB\n"
     ]
    }
   ],
   "source": [
    "df.info()"
   ]
  },
  {
   "cell_type": "code",
   "execution_count": 5,
   "metadata": {
    "colab": {
     "base_uri": "https://localhost:8080/",
     "height": 297
    },
    "executionInfo": {
     "elapsed": 895,
     "status": "ok",
     "timestamp": 1616000221844,
     "user": {
      "displayName": "Heyam Almahmoud",
      "photoUrl": "https://lh3.googleusercontent.com/a-/AOh14Gg3TdTa0oXRsh0QRwgJ47kD1bKUhrWz9hjUdC-yMg=s64",
      "userId": "04220665860273086704"
     },
     "user_tz": -120
    },
    "id": "vT3-lhpnFdBl",
    "outputId": "df53b7c8-8ff1-41e2-c188-efa0ae17d647"
   },
   "outputs": [
    {
     "data": {
      "text/html": [
       "<div>\n",
       "<style scoped>\n",
       "    .dataframe tbody tr th:only-of-type {\n",
       "        vertical-align: middle;\n",
       "    }\n",
       "\n",
       "    .dataframe tbody tr th {\n",
       "        vertical-align: top;\n",
       "    }\n",
       "\n",
       "    .dataframe thead th {\n",
       "        text-align: right;\n",
       "    }\n",
       "</style>\n",
       "<table border=\"1\" class=\"dataframe\">\n",
       "  <thead>\n",
       "    <tr style=\"text-align: right;\">\n",
       "      <th></th>\n",
       "      <th>carat</th>\n",
       "      <th>depth</th>\n",
       "      <th>table</th>\n",
       "      <th>price</th>\n",
       "      <th>x</th>\n",
       "      <th>y</th>\n",
       "      <th>z</th>\n",
       "    </tr>\n",
       "  </thead>\n",
       "  <tbody>\n",
       "    <tr>\n",
       "      <th>count</th>\n",
       "      <td>53940.000000</td>\n",
       "      <td>53940.000000</td>\n",
       "      <td>53940.000000</td>\n",
       "      <td>53940.000000</td>\n",
       "      <td>53940.000000</td>\n",
       "      <td>53940.000000</td>\n",
       "      <td>53940.000000</td>\n",
       "    </tr>\n",
       "    <tr>\n",
       "      <th>mean</th>\n",
       "      <td>0.797940</td>\n",
       "      <td>61.749405</td>\n",
       "      <td>57.457184</td>\n",
       "      <td>3932.799722</td>\n",
       "      <td>5.731157</td>\n",
       "      <td>5.734526</td>\n",
       "      <td>3.538734</td>\n",
       "    </tr>\n",
       "    <tr>\n",
       "      <th>std</th>\n",
       "      <td>0.474011</td>\n",
       "      <td>1.432621</td>\n",
       "      <td>2.234491</td>\n",
       "      <td>3989.439738</td>\n",
       "      <td>1.121761</td>\n",
       "      <td>1.142135</td>\n",
       "      <td>0.705699</td>\n",
       "    </tr>\n",
       "    <tr>\n",
       "      <th>min</th>\n",
       "      <td>0.200000</td>\n",
       "      <td>43.000000</td>\n",
       "      <td>43.000000</td>\n",
       "      <td>326.000000</td>\n",
       "      <td>0.000000</td>\n",
       "      <td>0.000000</td>\n",
       "      <td>0.000000</td>\n",
       "    </tr>\n",
       "    <tr>\n",
       "      <th>25%</th>\n",
       "      <td>0.400000</td>\n",
       "      <td>61.000000</td>\n",
       "      <td>56.000000</td>\n",
       "      <td>950.000000</td>\n",
       "      <td>4.710000</td>\n",
       "      <td>4.720000</td>\n",
       "      <td>2.910000</td>\n",
       "    </tr>\n",
       "    <tr>\n",
       "      <th>50%</th>\n",
       "      <td>0.700000</td>\n",
       "      <td>61.800000</td>\n",
       "      <td>57.000000</td>\n",
       "      <td>2401.000000</td>\n",
       "      <td>5.700000</td>\n",
       "      <td>5.710000</td>\n",
       "      <td>3.530000</td>\n",
       "    </tr>\n",
       "    <tr>\n",
       "      <th>75%</th>\n",
       "      <td>1.040000</td>\n",
       "      <td>62.500000</td>\n",
       "      <td>59.000000</td>\n",
       "      <td>5324.250000</td>\n",
       "      <td>6.540000</td>\n",
       "      <td>6.540000</td>\n",
       "      <td>4.040000</td>\n",
       "    </tr>\n",
       "    <tr>\n",
       "      <th>max</th>\n",
       "      <td>5.010000</td>\n",
       "      <td>79.000000</td>\n",
       "      <td>95.000000</td>\n",
       "      <td>18823.000000</td>\n",
       "      <td>10.740000</td>\n",
       "      <td>58.900000</td>\n",
       "      <td>31.800000</td>\n",
       "    </tr>\n",
       "  </tbody>\n",
       "</table>\n",
       "</div>"
      ],
      "text/plain": [
       "              carat         depth         table         price             x  \\\n",
       "count  53940.000000  53940.000000  53940.000000  53940.000000  53940.000000   \n",
       "mean       0.797940     61.749405     57.457184   3932.799722      5.731157   \n",
       "std        0.474011      1.432621      2.234491   3989.439738      1.121761   \n",
       "min        0.200000     43.000000     43.000000    326.000000      0.000000   \n",
       "25%        0.400000     61.000000     56.000000    950.000000      4.710000   \n",
       "50%        0.700000     61.800000     57.000000   2401.000000      5.700000   \n",
       "75%        1.040000     62.500000     59.000000   5324.250000      6.540000   \n",
       "max        5.010000     79.000000     95.000000  18823.000000     10.740000   \n",
       "\n",
       "                  y             z  \n",
       "count  53940.000000  53940.000000  \n",
       "mean       5.734526      3.538734  \n",
       "std        1.142135      0.705699  \n",
       "min        0.000000      0.000000  \n",
       "25%        4.720000      2.910000  \n",
       "50%        5.710000      3.530000  \n",
       "75%        6.540000      4.040000  \n",
       "max       58.900000     31.800000  "
      ]
     },
     "execution_count": 5,
     "metadata": {},
     "output_type": "execute_result"
    }
   ],
   "source": [
    "df.describe()"
   ]
  },
  {
   "cell_type": "code",
   "execution_count": 6,
   "metadata": {
    "colab": {
     "base_uri": "https://localhost:8080/",
     "height": 419
    },
    "executionInfo": {
     "elapsed": 1036,
     "status": "ok",
     "timestamp": 1616000475011,
     "user": {
      "displayName": "Heyam Almahmoud",
      "photoUrl": "https://lh3.googleusercontent.com/a-/AOh14Gg3TdTa0oXRsh0QRwgJ47kD1bKUhrWz9hjUdC-yMg=s64",
      "userId": "04220665860273086704"
     },
     "user_tz": -120
    },
    "id": "32vL409CFdBl",
    "outputId": "b992fd16-c60a-4ce8-ac10-72b97e223ea0"
   },
   "outputs": [
    {
     "data": {
      "text/html": [
       "<div>\n",
       "<style scoped>\n",
       "    .dataframe tbody tr th:only-of-type {\n",
       "        vertical-align: middle;\n",
       "    }\n",
       "\n",
       "    .dataframe tbody tr th {\n",
       "        vertical-align: top;\n",
       "    }\n",
       "\n",
       "    .dataframe thead th {\n",
       "        text-align: right;\n",
       "    }\n",
       "</style>\n",
       "<table border=\"1\" class=\"dataframe\">\n",
       "  <thead>\n",
       "    <tr style=\"text-align: right;\">\n",
       "      <th></th>\n",
       "      <th>carat</th>\n",
       "      <th>cut</th>\n",
       "      <th>color</th>\n",
       "      <th>clarity</th>\n",
       "      <th>depth</th>\n",
       "      <th>table</th>\n",
       "      <th>price</th>\n",
       "      <th>x</th>\n",
       "      <th>y</th>\n",
       "      <th>z</th>\n",
       "    </tr>\n",
       "  </thead>\n",
       "  <tbody>\n",
       "    <tr>\n",
       "      <th>0</th>\n",
       "      <td>0.23</td>\n",
       "      <td>Ideal</td>\n",
       "      <td>E</td>\n",
       "      <td>SI2</td>\n",
       "      <td>61.5</td>\n",
       "      <td>55.0</td>\n",
       "      <td>326</td>\n",
       "      <td>3.95</td>\n",
       "      <td>3.98</td>\n",
       "      <td>2.43</td>\n",
       "    </tr>\n",
       "    <tr>\n",
       "      <th>1</th>\n",
       "      <td>0.21</td>\n",
       "      <td>Premium</td>\n",
       "      <td>E</td>\n",
       "      <td>SI1</td>\n",
       "      <td>59.8</td>\n",
       "      <td>61.0</td>\n",
       "      <td>326</td>\n",
       "      <td>3.89</td>\n",
       "      <td>3.84</td>\n",
       "      <td>2.31</td>\n",
       "    </tr>\n",
       "    <tr>\n",
       "      <th>2</th>\n",
       "      <td>0.23</td>\n",
       "      <td>Good</td>\n",
       "      <td>E</td>\n",
       "      <td>VS1</td>\n",
       "      <td>56.9</td>\n",
       "      <td>65.0</td>\n",
       "      <td>327</td>\n",
       "      <td>4.05</td>\n",
       "      <td>4.07</td>\n",
       "      <td>2.31</td>\n",
       "    </tr>\n",
       "    <tr>\n",
       "      <th>3</th>\n",
       "      <td>0.29</td>\n",
       "      <td>Premium</td>\n",
       "      <td>I</td>\n",
       "      <td>VS2</td>\n",
       "      <td>62.4</td>\n",
       "      <td>58.0</td>\n",
       "      <td>334</td>\n",
       "      <td>4.20</td>\n",
       "      <td>4.23</td>\n",
       "      <td>2.63</td>\n",
       "    </tr>\n",
       "    <tr>\n",
       "      <th>4</th>\n",
       "      <td>0.31</td>\n",
       "      <td>Good</td>\n",
       "      <td>J</td>\n",
       "      <td>SI2</td>\n",
       "      <td>63.3</td>\n",
       "      <td>58.0</td>\n",
       "      <td>335</td>\n",
       "      <td>4.34</td>\n",
       "      <td>4.35</td>\n",
       "      <td>2.75</td>\n",
       "    </tr>\n",
       "    <tr>\n",
       "      <th>...</th>\n",
       "      <td>...</td>\n",
       "      <td>...</td>\n",
       "      <td>...</td>\n",
       "      <td>...</td>\n",
       "      <td>...</td>\n",
       "      <td>...</td>\n",
       "      <td>...</td>\n",
       "      <td>...</td>\n",
       "      <td>...</td>\n",
       "      <td>...</td>\n",
       "    </tr>\n",
       "    <tr>\n",
       "      <th>53935</th>\n",
       "      <td>0.72</td>\n",
       "      <td>Ideal</td>\n",
       "      <td>D</td>\n",
       "      <td>SI1</td>\n",
       "      <td>60.8</td>\n",
       "      <td>57.0</td>\n",
       "      <td>2757</td>\n",
       "      <td>5.75</td>\n",
       "      <td>5.76</td>\n",
       "      <td>3.50</td>\n",
       "    </tr>\n",
       "    <tr>\n",
       "      <th>53936</th>\n",
       "      <td>0.72</td>\n",
       "      <td>Good</td>\n",
       "      <td>D</td>\n",
       "      <td>SI1</td>\n",
       "      <td>63.1</td>\n",
       "      <td>55.0</td>\n",
       "      <td>2757</td>\n",
       "      <td>5.69</td>\n",
       "      <td>5.75</td>\n",
       "      <td>3.61</td>\n",
       "    </tr>\n",
       "    <tr>\n",
       "      <th>53937</th>\n",
       "      <td>0.70</td>\n",
       "      <td>Very Good</td>\n",
       "      <td>D</td>\n",
       "      <td>SI1</td>\n",
       "      <td>62.8</td>\n",
       "      <td>60.0</td>\n",
       "      <td>2757</td>\n",
       "      <td>5.66</td>\n",
       "      <td>5.68</td>\n",
       "      <td>3.56</td>\n",
       "    </tr>\n",
       "    <tr>\n",
       "      <th>53938</th>\n",
       "      <td>0.86</td>\n",
       "      <td>Premium</td>\n",
       "      <td>H</td>\n",
       "      <td>SI2</td>\n",
       "      <td>61.0</td>\n",
       "      <td>58.0</td>\n",
       "      <td>2757</td>\n",
       "      <td>6.15</td>\n",
       "      <td>6.12</td>\n",
       "      <td>3.74</td>\n",
       "    </tr>\n",
       "    <tr>\n",
       "      <th>53939</th>\n",
       "      <td>0.75</td>\n",
       "      <td>Ideal</td>\n",
       "      <td>D</td>\n",
       "      <td>SI2</td>\n",
       "      <td>62.2</td>\n",
       "      <td>55.0</td>\n",
       "      <td>2757</td>\n",
       "      <td>5.83</td>\n",
       "      <td>5.87</td>\n",
       "      <td>3.64</td>\n",
       "    </tr>\n",
       "  </tbody>\n",
       "</table>\n",
       "<p>53920 rows × 10 columns</p>\n",
       "</div>"
      ],
      "text/plain": [
       "       carat        cut color clarity  depth  table  price     x     y     z\n",
       "0       0.23      Ideal     E     SI2   61.5   55.0    326  3.95  3.98  2.43\n",
       "1       0.21    Premium     E     SI1   59.8   61.0    326  3.89  3.84  2.31\n",
       "2       0.23       Good     E     VS1   56.9   65.0    327  4.05  4.07  2.31\n",
       "3       0.29    Premium     I     VS2   62.4   58.0    334  4.20  4.23  2.63\n",
       "4       0.31       Good     J     SI2   63.3   58.0    335  4.34  4.35  2.75\n",
       "...      ...        ...   ...     ...    ...    ...    ...   ...   ...   ...\n",
       "53935   0.72      Ideal     D     SI1   60.8   57.0   2757  5.75  5.76  3.50\n",
       "53936   0.72       Good     D     SI1   63.1   55.0   2757  5.69  5.75  3.61\n",
       "53937   0.70  Very Good     D     SI1   62.8   60.0   2757  5.66  5.68  3.56\n",
       "53938   0.86    Premium     H     SI2   61.0   58.0   2757  6.15  6.12  3.74\n",
       "53939   0.75      Ideal     D     SI2   62.2   55.0   2757  5.83  5.87  3.64\n",
       "\n",
       "[53920 rows x 10 columns]"
      ]
     },
     "execution_count": 6,
     "metadata": {},
     "output_type": "execute_result"
    }
   ],
   "source": [
    "df = df[(df[['x','y','z']] != 0).all(axis=1)]\n",
    "df\n",
    "# removing the zeros from x,y and z"
   ]
  },
  {
   "cell_type": "code",
   "execution_count": 7,
   "metadata": {
    "colab": {
     "base_uri": "https://localhost:8080/",
     "height": 49
    },
    "executionInfo": {
     "elapsed": 1041,
     "status": "ok",
     "timestamp": 1616000479283,
     "user": {
      "displayName": "Heyam Almahmoud",
      "photoUrl": "https://lh3.googleusercontent.com/a-/AOh14Gg3TdTa0oXRsh0QRwgJ47kD1bKUhrWz9hjUdC-yMg=s64",
      "userId": "04220665860273086704"
     },
     "user_tz": -120
    },
    "id": "7oA2HkJxFdBm",
    "outputId": "50f88791-bbe5-43d8-c9e4-a497e3d32608"
   },
   "outputs": [
    {
     "data": {
      "text/html": [
       "<div>\n",
       "<style scoped>\n",
       "    .dataframe tbody tr th:only-of-type {\n",
       "        vertical-align: middle;\n",
       "    }\n",
       "\n",
       "    .dataframe tbody tr th {\n",
       "        vertical-align: top;\n",
       "    }\n",
       "\n",
       "    .dataframe thead th {\n",
       "        text-align: right;\n",
       "    }\n",
       "</style>\n",
       "<table border=\"1\" class=\"dataframe\">\n",
       "  <thead>\n",
       "    <tr style=\"text-align: right;\">\n",
       "      <th></th>\n",
       "      <th>carat</th>\n",
       "      <th>cut</th>\n",
       "      <th>color</th>\n",
       "      <th>clarity</th>\n",
       "      <th>depth</th>\n",
       "      <th>table</th>\n",
       "      <th>price</th>\n",
       "      <th>x</th>\n",
       "      <th>y</th>\n",
       "      <th>z</th>\n",
       "    </tr>\n",
       "  </thead>\n",
       "  <tbody>\n",
       "  </tbody>\n",
       "</table>\n",
       "</div>"
      ],
      "text/plain": [
       "Empty DataFrame\n",
       "Columns: [carat, cut, color, clarity, depth, table, price, x, y, z]\n",
       "Index: []"
      ]
     },
     "execution_count": 7,
     "metadata": {},
     "output_type": "execute_result"
    }
   ],
   "source": [
    "df.loc[(df['x']==0) | (df['y']==0) | (df['z']==0)]\n",
    "# checking if there are any zeros in x,y and z"
   ]
  },
  {
   "cell_type": "code",
   "execution_count": 8,
   "metadata": {
    "colab": {
     "base_uri": "https://localhost:8080/"
    },
    "executionInfo": {
     "elapsed": 1091,
     "status": "ok",
     "timestamp": 1616000480830,
     "user": {
      "displayName": "Heyam Almahmoud",
      "photoUrl": "https://lh3.googleusercontent.com/a-/AOh14Gg3TdTa0oXRsh0QRwgJ47kD1bKUhrWz9hjUdC-yMg=s64",
      "userId": "04220665860273086704"
     },
     "user_tz": -120
    },
    "id": "H3EkSL_wFdBm",
    "outputId": "018ca721-9d37-4153-ab64-b42895224ebf"
   },
   "outputs": [
    {
     "name": "stdout",
     "output_type": "stream",
     "text": [
      "cut:['Ideal' 'Premium' 'Good' 'Very Good' 'Fair']\n",
      "color:['E' 'I' 'J' 'H' 'F' 'G' 'D']\n",
      "clarity:['SI2' 'SI1' 'VS1' 'VS2' 'VVS2' 'VVS1' 'I1' 'IF']\n"
     ]
    },
    {
     "data": {
      "text/plain": [
       "carat        273\n",
       "cut            5\n",
       "color          7\n",
       "clarity        8\n",
       "depth        184\n",
       "table        127\n",
       "price      11597\n",
       "x            553\n",
       "y            550\n",
       "z            374\n",
       "dtype: int64"
      ]
     },
     "execution_count": 8,
     "metadata": {},
     "output_type": "execute_result"
    }
   ],
   "source": [
    "for col in ['cut','color','clarity']:\n",
    "    print('{}:{}'.format(col,df[col].unique()))\n",
    "df.nunique()"
   ]
  },
  {
   "cell_type": "code",
   "execution_count": 9,
   "metadata": {
    "colab": {
     "base_uri": "https://localhost:8080/",
     "height": 504
    },
    "executionInfo": {
     "elapsed": 1586,
     "status": "ok",
     "timestamp": 1616000238810,
     "user": {
      "displayName": "Heyam Almahmoud",
      "photoUrl": "https://lh3.googleusercontent.com/a-/AOh14Gg3TdTa0oXRsh0QRwgJ47kD1bKUhrWz9hjUdC-yMg=s64",
      "userId": "04220665860273086704"
     },
     "user_tz": -120
    },
    "id": "ThanLsjZFdBm",
    "outputId": "e7c76863-20a5-40f8-9ed8-b0d5e793e1f6"
   },
   "outputs": [
    {
     "data": {
      "text/plain": [
       "<AxesSubplot:>"
      ]
     },
     "execution_count": 9,
     "metadata": {},
     "output_type": "execute_result"
    },
    {
     "data": {
      "image/png": "[encoded data removed]",
      "text/plain": [
       "<Figure size 1080x576 with 2 Axes>"
      ]
     },
     "metadata": {
      "needs_background": "light"
     },
     "output_type": "display_data"
    }
   ],
   "source": [
    "plt.figure(figsize=(15,8))\n",
    "corr=df.corr()\n",
    "sns.heatmap(data=corr,annot=True,cmap='coolwarm')"
   ]
  },
  {
   "cell_type": "code",
   "execution_count": 10,
   "metadata": {
    "colab": {
     "base_uri": "https://localhost:8080/",
     "height": 282
    },
    "executionInfo": {
     "elapsed": 956,
     "status": "ok",
     "timestamp": 1616000264653,
     "user": {
      "displayName": "Heyam Almahmoud",
      "photoUrl": "https://lh3.googleusercontent.com/a-/AOh14Gg3TdTa0oXRsh0QRwgJ47kD1bKUhrWz9hjUdC-yMg=s64",
      "userId": "04220665860273086704"
     },
     "user_tz": -120
    },
    "id": "Hj_nZRKuFdBn",
    "outputId": "68ddb9ea-9d36-464f-bc12-f1f5fc103da6"
   },
   "outputs": [
    {
     "data": {
      "text/plain": [
       "<matplotlib.collections.PathCollection at 0x239a7b30df0>"
      ]
     },
     "execution_count": 10,
     "metadata": {},
     "output_type": "execute_result"
    },
    {
     "data": {
      "image/png": "[encoded data removed]",
      "text/plain": [
       "<Figure size 432x288 with 1 Axes>"
      ]
     },
     "metadata": {
      "needs_background": "light"
     },
     "output_type": "display_data"
    }
   ],
   "source": [
    "plt.scatter(x=df.carat,y=df.price)"
   ]
  },
  {
   "cell_type": "code",
   "execution_count": 11,
   "metadata": {
    "colab": {
     "base_uri": "https://localhost:8080/",
     "height": 400
    },
    "executionInfo": {
     "elapsed": 1516,
     "status": "ok",
     "timestamp": 1616000266864,
     "user": {
      "displayName": "Heyam Almahmoud",
      "photoUrl": "https://lh3.googleusercontent.com/a-/AOh14Gg3TdTa0oXRsh0QRwgJ47kD1bKUhrWz9hjUdC-yMg=s64",
      "userId": "04220665860273086704"
     },
     "user_tz": -120
    },
    "id": "Gdk3XiYTFdBn",
    "outputId": "3decfdd6-be27-4c7d-bbbf-016b4f165ba5"
   },
   "outputs": [
    {
     "data": {
      "text/plain": [
       "<seaborn.axisgrid.FacetGrid at 0x239a7e27670>"
      ]
     },
     "execution_count": 11,
     "metadata": {},
     "output_type": "execute_result"
    },
    {
     "data": {
      "image/png": "[encoded data removed]",
      "text/plain": [
       "<Figure size 720x360 with 1 Axes>"
      ]
     },
     "metadata": {
      "needs_background": "light"
     },
     "output_type": "display_data"
    }
   ],
   "source": [
    "sns.catplot(x='cut',data=df,kind='count',aspect=2) #price vs cut "
   ]
  },
  {
   "cell_type": "code",
   "execution_count": 12,
   "metadata": {
    "colab": {
     "base_uri": "https://localhost:8080/",
     "height": 400
    },
    "executionInfo": {
     "elapsed": 1317,
     "status": "ok",
     "timestamp": 1616000271293,
     "user": {
      "displayName": "Heyam Almahmoud",
      "photoUrl": "https://lh3.googleusercontent.com/a-/AOh14Gg3TdTa0oXRsh0QRwgJ47kD1bKUhrWz9hjUdC-yMg=s64",
      "userId": "04220665860273086704"
     },
     "user_tz": -120
    },
    "id": "R56ZkB-0FdBn",
    "outputId": "55c05ef1-de46-437c-e7e8-c4f4f4526842"
   },
   "outputs": [
    {
     "data": {
      "text/plain": [
       "<seaborn.axisgrid.FacetGrid at 0x239a7cd9f10>"
      ]
     },
     "execution_count": 12,
     "metadata": {},
     "output_type": "execute_result"
    },
    {
     "data": {
      "image/png": "[encoded data removed]",
      "text/plain": [
       "<Figure size 720x360 with 1 Axes>"
      ]
     },
     "metadata": {
      "needs_background": "light"
     },
     "output_type": "display_data"
    }
   ],
   "source": [
    "sns.catplot(x='cut',y='price',data=df,kind='box',aspect=2)"
   ]
  },
  {
   "cell_type": "code",
   "execution_count": 13,
   "metadata": {
    "colab": {
     "base_uri": "https://localhost:8080/",
     "height": 400
    },
    "executionInfo": {
     "elapsed": 1133,
     "status": "ok",
     "timestamp": 1616000275744,
     "user": {
      "displayName": "Heyam Almahmoud",
      "photoUrl": "https://lh3.googleusercontent.com/a-/AOh14Gg3TdTa0oXRsh0QRwgJ47kD1bKUhrWz9hjUdC-yMg=s64",
      "userId": "04220665860273086704"
     },
     "user_tz": -120
    },
    "id": "afSM7REmFdBn",
    "outputId": "7d2788f9-b84b-43c7-c690-c2c8476f7f48"
   },
   "outputs": [
    {
     "data": {
      "text/plain": [
       "<seaborn.axisgrid.FacetGrid at 0x239aa696b50>"
      ]
     },
     "execution_count": 13,
     "metadata": {},
     "output_type": "execute_result"
    },
    {
     "data": {
      "image/png": "[encoded data removed]",
      "text/plain": [
       "<Figure size 720x360 with 1 Axes>"
      ]
     },
     "metadata": {
      "needs_background": "light"
     },
     "output_type": "display_data"
    }
   ],
   "source": [
    "sns.catplot(x='color', data=df , kind='count',aspect=2) #color vs price "
   ]
  },
  {
   "cell_type": "code",
   "execution_count": 14,
   "metadata": {
    "colab": {
     "base_uri": "https://localhost:8080/",
     "height": 400
    },
    "executionInfo": {
     "elapsed": 1106,
     "status": "ok",
     "timestamp": 1616000279047,
     "user": {
      "displayName": "Heyam Almahmoud",
      "photoUrl": "https://lh3.googleusercontent.com/a-/AOh14Gg3TdTa0oXRsh0QRwgJ47kD1bKUhrWz9hjUdC-yMg=s64",
      "userId": "04220665860273086704"
     },
     "user_tz": -120
    },
    "id": "7WriEFarFdBo",
    "outputId": "a4c95ef4-2759-4e73-e369-c820e4bd333f"
   },
   "outputs": [
    {
     "data": {
      "text/plain": [
       "<seaborn.axisgrid.FacetGrid at 0x239a7cd9e80>"
      ]
     },
     "execution_count": 14,
     "metadata": {},
     "output_type": "execute_result"
    },
    {
     "data": {
      "image/png": "[encoded data removed]",
      "text/plain": [
       "<Figure size 720x360 with 1 Axes>"
      ]
     },
     "metadata": {
      "needs_background": "light"
     },
     "output_type": "display_data"
    }
   ],
   "source": [
    "sns.catplot(x='color',y='price',data=df,kind='box',aspect=2) "
   ]
  },
  {
   "cell_type": "code",
   "execution_count": 15,
   "metadata": {
    "colab": {
     "base_uri": "https://localhost:8080/",
     "height": 400
    },
    "executionInfo": {
     "elapsed": 1046,
     "status": "ok",
     "timestamp": 1616000283405,
     "user": {
      "displayName": "Heyam Almahmoud",
      "photoUrl": "https://lh3.googleusercontent.com/a-/AOh14Gg3TdTa0oXRsh0QRwgJ47kD1bKUhrWz9hjUdC-yMg=s64",
      "userId": "04220665860273086704"
     },
     "user_tz": -120
    },
    "id": "Nw8YmHDzFdBo",
    "outputId": "39c50426-c187-4a55-c081-38cdee340e67"
   },
   "outputs": [
    {
     "data": {
      "text/plain": [
       "<seaborn.axisgrid.FacetGrid at 0x239a7dd3e50>"
      ]
     },
     "execution_count": 15,
     "metadata": {},
     "output_type": "execute_result"
    },
    {
     "data": {
      "image/png": "[encoded data removed]",
      "text/plain": [
       "<Figure size 720x360 with 1 Axes>"
      ]
     },
     "metadata": {
      "needs_background": "light"
     },
     "output_type": "display_data"
    }
   ],
   "source": [
    "sns.catplot(x='clarity', data=df , kind='count',aspect=2) # clarity vs price "
   ]
  },
  {
   "cell_type": "code",
   "execution_count": 16,
   "metadata": {
    "colab": {
     "base_uri": "https://localhost:8080/",
     "height": 400
    },
    "executionInfo": {
     "elapsed": 1192,
     "status": "ok",
     "timestamp": 1616000290378,
     "user": {
      "displayName": "Heyam Almahmoud",
      "photoUrl": "https://lh3.googleusercontent.com/a-/AOh14Gg3TdTa0oXRsh0QRwgJ47kD1bKUhrWz9hjUdC-yMg=s64",
      "userId": "04220665860273086704"
     },
     "user_tz": -120
    },
    "id": "RyKFOHmYFdBo",
    "outputId": "e3c1421a-d9c2-4445-8194-03828c4a32dc"
   },
   "outputs": [
    {
     "data": {
      "text/plain": [
       "<seaborn.axisgrid.FacetGrid at 0x239a73abeb0>"
      ]
     },
     "execution_count": 16,
     "metadata": {},
     "output_type": "execute_result"
    },
    {
     "data": {
      "image/png": "[encoded data removed]",
      "text/plain": [
       "<Figure size 720x360 with 1 Axes>"
      ]
     },
     "metadata": {
      "needs_background": "light"
     },
     "output_type": "display_data"
    }
   ],
   "source": [
    "sns.catplot(x='clarity',y='price',data=df,kind='box',aspect=2)"
   ]
  },
  {
   "cell_type": "markdown",
   "metadata": {
    "id": "xnISP9dlFdBo"
   },
   "source": [
    "### Now because the x,y and z dimesnions are stronglly correlated we can combine them into a single attribute which is volume "
   ]
  },
  {
   "cell_type": "code",
   "execution_count": 17,
   "metadata": {
    "colab": {
     "base_uri": "https://localhost:8080/",
     "height": 204
    },
    "executionInfo": {
     "elapsed": 1227,
     "status": "ok",
     "timestamp": 1616000493930,
     "user": {
      "displayName": "Heyam Almahmoud",
      "photoUrl": "https://lh3.googleusercontent.com/a-/AOh14Gg3TdTa0oXRsh0QRwgJ47kD1bKUhrWz9hjUdC-yMg=s64",
      "userId": "04220665860273086704"
     },
     "user_tz": -120
    },
    "id": "4ovc6gseFdBo",
    "outputId": "3bd037bc-1f35-4823-bb62-fa14c39735af"
   },
   "outputs": [
    {
     "data": {
      "text/html": [
       "<div>\n",
       "<style scoped>\n",
       "    .dataframe tbody tr th:only-of-type {\n",
       "        vertical-align: middle;\n",
       "    }\n",
       "\n",
       "    .dataframe tbody tr th {\n",
       "        vertical-align: top;\n",
       "    }\n",
       "\n",
       "    .dataframe thead th {\n",
       "        text-align: right;\n",
       "    }\n",
       "</style>\n",
       "<table border=\"1\" class=\"dataframe\">\n",
       "  <thead>\n",
       "    <tr style=\"text-align: right;\">\n",
       "      <th></th>\n",
       "      <th>carat</th>\n",
       "      <th>cut</th>\n",
       "      <th>color</th>\n",
       "      <th>clarity</th>\n",
       "      <th>depth</th>\n",
       "      <th>table</th>\n",
       "      <th>price</th>\n",
       "      <th>x</th>\n",
       "      <th>y</th>\n",
       "      <th>z</th>\n",
       "      <th>volume</th>\n",
       "    </tr>\n",
       "  </thead>\n",
       "  <tbody>\n",
       "    <tr>\n",
       "      <th>0</th>\n",
       "      <td>0.23</td>\n",
       "      <td>Ideal</td>\n",
       "      <td>E</td>\n",
       "      <td>SI2</td>\n",
       "      <td>61.5</td>\n",
       "      <td>55.0</td>\n",
       "      <td>326</td>\n",
       "      <td>3.95</td>\n",
       "      <td>3.98</td>\n",
       "      <td>2.43</td>\n",
       "      <td>38.202030</td>\n",
       "    </tr>\n",
       "    <tr>\n",
       "      <th>1</th>\n",
       "      <td>0.21</td>\n",
       "      <td>Premium</td>\n",
       "      <td>E</td>\n",
       "      <td>SI1</td>\n",
       "      <td>59.8</td>\n",
       "      <td>61.0</td>\n",
       "      <td>326</td>\n",
       "      <td>3.89</td>\n",
       "      <td>3.84</td>\n",
       "      <td>2.31</td>\n",
       "      <td>34.505856</td>\n",
       "    </tr>\n",
       "    <tr>\n",
       "      <th>2</th>\n",
       "      <td>0.23</td>\n",
       "      <td>Good</td>\n",
       "      <td>E</td>\n",
       "      <td>VS1</td>\n",
       "      <td>56.9</td>\n",
       "      <td>65.0</td>\n",
       "      <td>327</td>\n",
       "      <td>4.05</td>\n",
       "      <td>4.07</td>\n",
       "      <td>2.31</td>\n",
       "      <td>38.076885</td>\n",
       "    </tr>\n",
       "    <tr>\n",
       "      <th>3</th>\n",
       "      <td>0.29</td>\n",
       "      <td>Premium</td>\n",
       "      <td>I</td>\n",
       "      <td>VS2</td>\n",
       "      <td>62.4</td>\n",
       "      <td>58.0</td>\n",
       "      <td>334</td>\n",
       "      <td>4.20</td>\n",
       "      <td>4.23</td>\n",
       "      <td>2.63</td>\n",
       "      <td>46.724580</td>\n",
       "    </tr>\n",
       "    <tr>\n",
       "      <th>4</th>\n",
       "      <td>0.31</td>\n",
       "      <td>Good</td>\n",
       "      <td>J</td>\n",
       "      <td>SI2</td>\n",
       "      <td>63.3</td>\n",
       "      <td>58.0</td>\n",
       "      <td>335</td>\n",
       "      <td>4.34</td>\n",
       "      <td>4.35</td>\n",
       "      <td>2.75</td>\n",
       "      <td>51.917250</td>\n",
       "    </tr>\n",
       "  </tbody>\n",
       "</table>\n",
       "</div>"
      ],
      "text/plain": [
       "   carat      cut color clarity  depth  table  price     x     y     z  \\\n",
       "0   0.23    Ideal     E     SI2   61.5   55.0    326  3.95  3.98  2.43   \n",
       "1   0.21  Premium     E     SI1   59.8   61.0    326  3.89  3.84  2.31   \n",
       "2   0.23     Good     E     VS1   56.9   65.0    327  4.05  4.07  2.31   \n",
       "3   0.29  Premium     I     VS2   62.4   58.0    334  4.20  4.23  2.63   \n",
       "4   0.31     Good     J     SI2   63.3   58.0    335  4.34  4.35  2.75   \n",
       "\n",
       "      volume  \n",
       "0  38.202030  \n",
       "1  34.505856  \n",
       "2  38.076885  \n",
       "3  46.724580  \n",
       "4  51.917250  "
      ]
     },
     "execution_count": 17,
     "metadata": {},
     "output_type": "execute_result"
    }
   ],
   "source": [
    "\n",
    "df['volume']=df['x']*df['y']*df['z']\n",
    "df.head()"
   ]
  },
  {
   "cell_type": "code",
   "execution_count": 18,
   "metadata": {
    "colab": {
     "base_uri": "https://localhost:8080/",
     "height": 282
    },
    "executionInfo": {
     "elapsed": 1100,
     "status": "ok",
     "timestamp": 1616000296012,
     "user": {
      "displayName": "Heyam Almahmoud",
      "photoUrl": "https://lh3.googleusercontent.com/a-/AOh14Gg3TdTa0oXRsh0QRwgJ47kD1bKUhrWz9hjUdC-yMg=s64",
      "userId": "04220665860273086704"
     },
     "user_tz": -120
    },
    "id": "0l0DfQPZFdBp",
    "outputId": "0fab4923-42ea-4362-c051-9eee2d7b4ef7"
   },
   "outputs": [
    {
     "data": {
      "text/plain": [
       "<matplotlib.collections.PathCollection at 0x239a878cf10>"
      ]
     },
     "execution_count": 18,
     "metadata": {},
     "output_type": "execute_result"
    },
    {
     "data": {
      "image/png": "[encoded data removed]",
      "text/plain": [
       "<Figure size 432x288 with 1 Axes>"
      ]
     },
     "metadata": {
      "needs_background": "light"
     },
     "output_type": "display_data"
    }
   ],
   "source": [
    "plt.scatter(df.volume,df.price)"
   ]
  },
  {
   "cell_type": "code",
   "execution_count": 19,
   "metadata": {
    "executionInfo": {
     "elapsed": 1163,
     "status": "ok",
     "timestamp": 1616000505556,
     "user": {
      "displayName": "Heyam Almahmoud",
      "photoUrl": "https://lh3.googleusercontent.com/a-/AOh14Gg3TdTa0oXRsh0QRwgJ47kD1bKUhrWz9hjUdC-yMg=s64",
      "userId": "04220665860273086704"
     },
     "user_tz": -120
    },
    "id": "TCoayCCvFdBp"
   },
   "outputs": [],
   "source": [
    "df.drop(['x','y','z'],axis=1,inplace=True) # dropping x,y and z since we replaced them with volume "
   ]
  },
  {
   "cell_type": "code",
   "execution_count": 20,
   "metadata": {
    "colab": {
     "base_uri": "https://localhost:8080/",
     "height": 204
    },
    "executionInfo": {
     "elapsed": 5720,
     "status": "ok",
     "timestamp": 1616000077949,
     "user": {
      "displayName": "Heyam Almahmoud",
      "photoUrl": "https://lh3.googleusercontent.com/a-/AOh14Gg3TdTa0oXRsh0QRwgJ47kD1bKUhrWz9hjUdC-yMg=s64",
      "userId": "04220665860273086704"
     },
     "user_tz": -120
    },
    "id": "77kD-9YgFdBp",
    "outputId": "cbdc8360-312f-40db-ed91-e37b8ad3e4c9"
   },
   "outputs": [
    {
     "data": {
      "text/html": [
       "<div>\n",
       "<style scoped>\n",
       "    .dataframe tbody tr th:only-of-type {\n",
       "        vertical-align: middle;\n",
       "    }\n",
       "\n",
       "    .dataframe tbody tr th {\n",
       "        vertical-align: top;\n",
       "    }\n",
       "\n",
       "    .dataframe thead th {\n",
       "        text-align: right;\n",
       "    }\n",
       "</style>\n",
       "<table border=\"1\" class=\"dataframe\">\n",
       "  <thead>\n",
       "    <tr style=\"text-align: right;\">\n",
       "      <th></th>\n",
       "      <th>carat</th>\n",
       "      <th>cut</th>\n",
       "      <th>color</th>\n",
       "      <th>clarity</th>\n",
       "      <th>depth</th>\n",
       "      <th>table</th>\n",
       "      <th>price</th>\n",
       "      <th>volume</th>\n",
       "    </tr>\n",
       "  </thead>\n",
       "  <tbody>\n",
       "    <tr>\n",
       "      <th>0</th>\n",
       "      <td>0.23</td>\n",
       "      <td>Ideal</td>\n",
       "      <td>E</td>\n",
       "      <td>SI2</td>\n",
       "      <td>61.5</td>\n",
       "      <td>55.0</td>\n",
       "      <td>326</td>\n",
       "      <td>38.202030</td>\n",
       "    </tr>\n",
       "    <tr>\n",
       "      <th>1</th>\n",
       "      <td>0.21</td>\n",
       "      <td>Premium</td>\n",
       "      <td>E</td>\n",
       "      <td>SI1</td>\n",
       "      <td>59.8</td>\n",
       "      <td>61.0</td>\n",
       "      <td>326</td>\n",
       "      <td>34.505856</td>\n",
       "    </tr>\n",
       "    <tr>\n",
       "      <th>2</th>\n",
       "      <td>0.23</td>\n",
       "      <td>Good</td>\n",
       "      <td>E</td>\n",
       "      <td>VS1</td>\n",
       "      <td>56.9</td>\n",
       "      <td>65.0</td>\n",
       "      <td>327</td>\n",
       "      <td>38.076885</td>\n",
       "    </tr>\n",
       "    <tr>\n",
       "      <th>3</th>\n",
       "      <td>0.29</td>\n",
       "      <td>Premium</td>\n",
       "      <td>I</td>\n",
       "      <td>VS2</td>\n",
       "      <td>62.4</td>\n",
       "      <td>58.0</td>\n",
       "      <td>334</td>\n",
       "      <td>46.724580</td>\n",
       "    </tr>\n",
       "    <tr>\n",
       "      <th>4</th>\n",
       "      <td>0.31</td>\n",
       "      <td>Good</td>\n",
       "      <td>J</td>\n",
       "      <td>SI2</td>\n",
       "      <td>63.3</td>\n",
       "      <td>58.0</td>\n",
       "      <td>335</td>\n",
       "      <td>51.917250</td>\n",
       "    </tr>\n",
       "  </tbody>\n",
       "</table>\n",
       "</div>"
      ],
      "text/plain": [
       "   carat      cut color clarity  depth  table  price     volume\n",
       "0   0.23    Ideal     E     SI2   61.5   55.0    326  38.202030\n",
       "1   0.21  Premium     E     SI1   59.8   61.0    326  34.505856\n",
       "2   0.23     Good     E     VS1   56.9   65.0    327  38.076885\n",
       "3   0.29  Premium     I     VS2   62.4   58.0    334  46.724580\n",
       "4   0.31     Good     J     SI2   63.3   58.0    335  51.917250"
      ]
     },
     "execution_count": 20,
     "metadata": {},
     "output_type": "execute_result"
    }
   ],
   "source": [
    "df.head()"
   ]
  },
  {
   "cell_type": "markdown",
   "metadata": {
    "id": "20OIzE2lFdBp"
   },
   "source": [
    "# Handling Categorical features"
   ]
  },
  {
   "cell_type": "code",
   "execution_count": 21,
   "metadata": {
    "executionInfo": {
     "elapsed": 1115,
     "status": "ok",
     "timestamp": 1616000510440,
     "user": {
      "displayName": "Heyam Almahmoud",
      "photoUrl": "https://lh3.googleusercontent.com/a-/AOh14Gg3TdTa0oXRsh0QRwgJ47kD1bKUhrWz9hjUdC-yMg=s64",
      "userId": "04220665860273086704"
     },
     "user_tz": -120
    },
    "id": "7UEH2d45FdBp"
   },
   "outputs": [],
   "source": [
    "# using python's dictionary and map function\n",
    "cuts_map = {'Fair':0,'Good':1,'Very Good':2,'Premium':3,'Ideal':4}\n",
    "df['cut'] = [cuts_map.get(item) for item in df['cut']]\n",
    "\n",
    "colors_map = {'J':0,'I':1,'H':2,'G':3,'F':4,'E':5,'D':6}\n",
    "df['color'] = [colors_map.get(item) for item in df['color']]\n",
    "\n",
    "clarities_map = {'I1':0,'SI2':1,'SI1':2,'VS2':3,'VS1':4,'VVS2':5,'VVS1':6,'IF':7}\n",
    "df['clarity'] = [clarities_map.get(item) for item in df['clarity']]"
   ]
  },
  {
   "cell_type": "code",
   "execution_count": 22,
   "metadata": {
    "colab": {
     "base_uri": "https://localhost:8080/",
     "height": 204
    },
    "executionInfo": {
     "elapsed": 5709,
     "status": "ok",
     "timestamp": 1616000077950,
     "user": {
      "displayName": "Heyam Almahmoud",
      "photoUrl": "https://lh3.googleusercontent.com/a-/AOh14Gg3TdTa0oXRsh0QRwgJ47kD1bKUhrWz9hjUdC-yMg=s64",
      "userId": "04220665860273086704"
     },
     "user_tz": -120
    },
    "id": "cfVAN1PEFdBp",
    "outputId": "b5159ca8-338b-45c1-fcae-460581f27b5c"
   },
   "outputs": [
    {
     "data": {
      "text/html": [
       "<div>\n",
       "<style scoped>\n",
       "    .dataframe tbody tr th:only-of-type {\n",
       "        vertical-align: middle;\n",
       "    }\n",
       "\n",
       "    .dataframe tbody tr th {\n",
       "        vertical-align: top;\n",
       "    }\n",
       "\n",
       "    .dataframe thead th {\n",
       "        text-align: right;\n",
       "    }\n",
       "</style>\n",
       "<table border=\"1\" class=\"dataframe\">\n",
       "  <thead>\n",
       "    <tr style=\"text-align: right;\">\n",
       "      <th></th>\n",
       "      <th>carat</th>\n",
       "      <th>cut</th>\n",
       "      <th>color</th>\n",
       "      <th>clarity</th>\n",
       "      <th>depth</th>\n",
       "      <th>table</th>\n",
       "      <th>price</th>\n",
       "      <th>volume</th>\n",
       "    </tr>\n",
       "  </thead>\n",
       "  <tbody>\n",
       "    <tr>\n",
       "      <th>0</th>\n",
       "      <td>0.23</td>\n",
       "      <td>4</td>\n",
       "      <td>5</td>\n",
       "      <td>1</td>\n",
       "      <td>61.5</td>\n",
       "      <td>55.0</td>\n",
       "      <td>326</td>\n",
       "      <td>38.202030</td>\n",
       "    </tr>\n",
       "    <tr>\n",
       "      <th>1</th>\n",
       "      <td>0.21</td>\n",
       "      <td>3</td>\n",
       "      <td>5</td>\n",
       "      <td>2</td>\n",
       "      <td>59.8</td>\n",
       "      <td>61.0</td>\n",
       "      <td>326</td>\n",
       "      <td>34.505856</td>\n",
       "    </tr>\n",
       "    <tr>\n",
       "      <th>2</th>\n",
       "      <td>0.23</td>\n",
       "      <td>1</td>\n",
       "      <td>5</td>\n",
       "      <td>4</td>\n",
       "      <td>56.9</td>\n",
       "      <td>65.0</td>\n",
       "      <td>327</td>\n",
       "      <td>38.076885</td>\n",
       "    </tr>\n",
       "    <tr>\n",
       "      <th>3</th>\n",
       "      <td>0.29</td>\n",
       "      <td>3</td>\n",
       "      <td>1</td>\n",
       "      <td>3</td>\n",
       "      <td>62.4</td>\n",
       "      <td>58.0</td>\n",
       "      <td>334</td>\n",
       "      <td>46.724580</td>\n",
       "    </tr>\n",
       "    <tr>\n",
       "      <th>4</th>\n",
       "      <td>0.31</td>\n",
       "      <td>1</td>\n",
       "      <td>0</td>\n",
       "      <td>1</td>\n",
       "      <td>63.3</td>\n",
       "      <td>58.0</td>\n",
       "      <td>335</td>\n",
       "      <td>51.917250</td>\n",
       "    </tr>\n",
       "  </tbody>\n",
       "</table>\n",
       "</div>"
      ],
      "text/plain": [
       "   carat  cut  color  clarity  depth  table  price     volume\n",
       "0   0.23    4      5        1   61.5   55.0    326  38.202030\n",
       "1   0.21    3      5        2   59.8   61.0    326  34.505856\n",
       "2   0.23    1      5        4   56.9   65.0    327  38.076885\n",
       "3   0.29    3      1        3   62.4   58.0    334  46.724580\n",
       "4   0.31    1      0        1   63.3   58.0    335  51.917250"
      ]
     },
     "execution_count": 22,
     "metadata": {},
     "output_type": "execute_result"
    }
   ],
   "source": [
    "df.head()"
   ]
  },
  {
   "cell_type": "code",
   "execution_count": 23,
   "metadata": {
    "colab": {
     "base_uri": "https://localhost:8080/"
    },
    "executionInfo": {
     "elapsed": 5705,
     "status": "ok",
     "timestamp": 1616000077951,
     "user": {
      "displayName": "Heyam Almahmoud",
      "photoUrl": "https://lh3.googleusercontent.com/a-/AOh14Gg3TdTa0oXRsh0QRwgJ47kD1bKUhrWz9hjUdC-yMg=s64",
      "userId": "04220665860273086704"
     },
     "user_tz": -120
    },
    "id": "oPWJzKp2FdBq",
    "outputId": "9c7544dd-1fe5-46b7-8723-a968df0db0c9"
   },
   "outputs": [
    {
     "data": {
      "text/plain": [
       "(53920, 8)"
      ]
     },
     "execution_count": 23,
     "metadata": {},
     "output_type": "execute_result"
    }
   ],
   "source": [
    "df.shape"
   ]
  },
  {
   "cell_type": "markdown",
   "metadata": {
    "id": "srXlGAEAFdBq"
   },
   "source": [
    "# Preparing The Data For Machine Learning "
   ]
  },
  {
   "cell_type": "code",
   "execution_count": 24,
   "metadata": {
    "executionInfo": {
     "elapsed": 969,
     "status": "ok",
     "timestamp": 1616000538183,
     "user": {
      "displayName": "Heyam Almahmoud",
      "photoUrl": "https://lh3.googleusercontent.com/a-/AOh14Gg3TdTa0oXRsh0QRwgJ47kD1bKUhrWz9hjUdC-yMg=s64",
      "userId": "04220665860273086704"
     },
     "user_tz": -120
    },
    "id": "VfUemgMrFdBq"
   },
   "outputs": [],
   "source": [
    "# seperating the features and the target column, x contains the features and y contains the target(price) column\n",
    "y = df['price']\n",
    "x = df.drop(['price'],axis=1)\n"
   ]
  },
  {
   "cell_type": "code",
   "execution_count": 25,
   "metadata": {
    "executionInfo": {
     "elapsed": 1505,
     "status": "ok",
     "timestamp": 1616000549181,
     "user": {
      "displayName": "Heyam Almahmoud",
      "photoUrl": "https://lh3.googleusercontent.com/a-/AOh14Gg3TdTa0oXRsh0QRwgJ47kD1bKUhrWz9hjUdC-yMg=s64",
      "userId": "04220665860273086704"
     },
     "user_tz": -120
    },
    "id": "Dq5c0biWFdBq"
   },
   "outputs": [],
   "source": [
    "x_train,x_test,y_train,y_test=train_test_split(x,y,test_size=0.2,random_state=40)"
   ]
  },
  {
   "cell_type": "code",
   "execution_count": 26,
   "metadata": {
    "colab": {
     "base_uri": "https://localhost:8080/",
     "height": 204
    },
    "executionInfo": {
     "elapsed": 6092,
     "status": "ok",
     "timestamp": 1616000078353,
     "user": {
      "displayName": "Heyam Almahmoud",
      "photoUrl": "https://lh3.googleusercontent.com/a-/AOh14Gg3TdTa0oXRsh0QRwgJ47kD1bKUhrWz9hjUdC-yMg=s64",
      "userId": "04220665860273086704"
     },
     "user_tz": -120
    },
    "id": "e8QUVF4zFdBq",
    "outputId": "2945927d-bfb4-4c9f-ea0c-33dfa671cfe9"
   },
   "outputs": [
    {
     "data": {
      "text/html": [
       "<div>\n",
       "<style scoped>\n",
       "    .dataframe tbody tr th:only-of-type {\n",
       "        vertical-align: middle;\n",
       "    }\n",
       "\n",
       "    .dataframe tbody tr th {\n",
       "        vertical-align: top;\n",
       "    }\n",
       "\n",
       "    .dataframe thead th {\n",
       "        text-align: right;\n",
       "    }\n",
       "</style>\n",
       "<table border=\"1\" class=\"dataframe\">\n",
       "  <thead>\n",
       "    <tr style=\"text-align: right;\">\n",
       "      <th></th>\n",
       "      <th>carat</th>\n",
       "      <th>cut</th>\n",
       "      <th>color</th>\n",
       "      <th>clarity</th>\n",
       "      <th>depth</th>\n",
       "      <th>table</th>\n",
       "      <th>volume</th>\n",
       "    </tr>\n",
       "  </thead>\n",
       "  <tbody>\n",
       "    <tr>\n",
       "      <th>8917</th>\n",
       "      <td>0.80</td>\n",
       "      <td>2</td>\n",
       "      <td>5</td>\n",
       "      <td>4</td>\n",
       "      <td>62.4</td>\n",
       "      <td>54.0</td>\n",
       "      <td>132.138864</td>\n",
       "    </tr>\n",
       "    <tr>\n",
       "      <th>20172</th>\n",
       "      <td>1.06</td>\n",
       "      <td>4</td>\n",
       "      <td>3</td>\n",
       "      <td>5</td>\n",
       "      <td>60.1</td>\n",
       "      <td>57.0</td>\n",
       "      <td>175.650174</td>\n",
       "    </tr>\n",
       "    <tr>\n",
       "      <th>2562</th>\n",
       "      <td>0.79</td>\n",
       "      <td>4</td>\n",
       "      <td>4</td>\n",
       "      <td>2</td>\n",
       "      <td>60.8</td>\n",
       "      <td>55.0</td>\n",
       "      <td>132.415140</td>\n",
       "    </tr>\n",
       "    <tr>\n",
       "      <th>28447</th>\n",
       "      <td>0.31</td>\n",
       "      <td>4</td>\n",
       "      <td>2</td>\n",
       "      <td>6</td>\n",
       "      <td>60.9</td>\n",
       "      <td>56.0</td>\n",
       "      <td>52.315120</td>\n",
       "    </tr>\n",
       "    <tr>\n",
       "      <th>1661</th>\n",
       "      <td>0.90</td>\n",
       "      <td>2</td>\n",
       "      <td>0</td>\n",
       "      <td>3</td>\n",
       "      <td>63.1</td>\n",
       "      <td>59.0</td>\n",
       "      <td>141.114435</td>\n",
       "    </tr>\n",
       "  </tbody>\n",
       "</table>\n",
       "</div>"
      ],
      "text/plain": [
       "       carat  cut  color  clarity  depth  table      volume\n",
       "8917    0.80    2      5        4   62.4   54.0  132.138864\n",
       "20172   1.06    4      3        5   60.1   57.0  175.650174\n",
       "2562    0.79    4      4        2   60.8   55.0  132.415140\n",
       "28447   0.31    4      2        6   60.9   56.0   52.315120\n",
       "1661    0.90    2      0        3   63.1   59.0  141.114435"
      ]
     },
     "execution_count": 26,
     "metadata": {},
     "output_type": "execute_result"
    }
   ],
   "source": [
    "x_test.head()"
   ]
  },
  {
   "cell_type": "code",
   "execution_count": 27,
   "metadata": {
    "colab": {
     "base_uri": "https://localhost:8080/"
    },
    "executionInfo": {
     "elapsed": 1029,
     "status": "ok",
     "timestamp": 1616000563699,
     "user": {
      "displayName": "Heyam Almahmoud",
      "photoUrl": "https://lh3.googleusercontent.com/a-/AOh14Gg3TdTa0oXRsh0QRwgJ47kD1bKUhrWz9hjUdC-yMg=s64",
      "userId": "04220665860273086704"
     },
     "user_tz": -120
    },
    "id": "thmRGlXNFdBq",
    "outputId": "a690067e-52c4-4835-cb72-ccd680a4c2c6"
   },
   "outputs": [
    {
     "name": "stdout",
     "output_type": "stream",
     "text": [
      "RMSE value= 1253.218076020046\n",
      "score Linear Regression= 0.9034913152848753\n"
     ]
    }
   ],
   "source": [
    "# linear regression\n",
    "Lreg=LinearRegression()\n",
    "Lreg.fit(x_train,y_train)\n",
    "pred=Lreg.predict(x_test)\n",
    "rmse=np.sqrt(mean_squared_error(y_test, pred))\n",
    "r2_Lreg=r2_score(y_test,pred)\n",
    "print(f'RMSE value= {rmse}')\n",
    "print(f\"score Linear Regression= {r2_Lreg}\")"
   ]
  },
  {
   "cell_type": "code",
   "execution_count": 28,
   "metadata": {
    "colab": {
     "base_uri": "https://localhost:8080/"
    },
    "executionInfo": {
     "elapsed": 17128,
     "status": "ok",
     "timestamp": 1616000675090,
     "user": {
      "displayName": "Heyam Almahmoud",
      "photoUrl": "https://lh3.googleusercontent.com/a-/AOh14Gg3TdTa0oXRsh0QRwgJ47kD1bKUhrWz9hjUdC-yMg=s64",
      "userId": "04220665860273086704"
     },
     "user_tz": -120
    },
    "id": "EwAM8TxlFdBr",
    "outputId": "5587d750-6985-4baa-e600-aece79967fe4"
   },
   "outputs": [
    {
     "name": "stdout",
     "output_type": "stream",
     "text": [
      "rmse_RF_reg value = 534.7515322904173\n",
      "score Random Forest Regressor = 0.9824281627812753\n"
     ]
    }
   ],
   "source": [
    "#Random Forest\n",
    "RFreg_model=RandomForestRegressor()\n",
    "RFreg_model.fit(x_train,y_train)\n",
    "pred2= RFreg_model.predict(x_test)\n",
    "rmse_RFreg=np.sqrt(mean_squared_error(y_test,pred2))\n",
    "print(f'rmse_RF_reg value = {rmse_RFreg}')\n",
    "r2_RFreg=r2_score(y_test,pred2)\n",
    "print(f'score Random Forest Regressor = {r2_RFreg}')"
   ]
  },
  {
   "cell_type": "code",
   "execution_count": 29,
   "metadata": {
    "id": "skdqFxCIFdBr"
   },
   "outputs": [
    {
     "name": "stdout",
     "output_type": "stream",
     "text": [
      "rmse_DT_model= 956.1110431223015\n",
      "score Decision Tree = 0.9438267224147261\n"
     ]
    }
   ],
   "source": [
    "# using all avilable ram\n",
    "# Decision Tree \n",
    "DT_model= tree.DecisionTreeClassifier()\n",
    "DT_model.fit(x_train,y_train)\n",
    "pred3=DT_model.predict(x_test)\n",
    "rmse_DT_model=np.sqrt(mean_squared_error(y_test,pred3))\n",
    "print(f'rmse_DT_model= {rmse_DT_model}')\n",
    "r2_DT_model=r2_score(y_test,pred3)\n",
    "print(f'score Decision Tree = {r2_DT_model}')"
   ]
  },
  {
   "cell_type": "code",
   "execution_count": 30,
   "metadata": {
    "id": "L20a4Q5vFdBr"
   },
   "outputs": [
    {
     "data": {
      "text/html": [
       "<div>\n",
       "<style scoped>\n",
       "    .dataframe tbody tr th:only-of-type {\n",
       "        vertical-align: middle;\n",
       "    }\n",
       "\n",
       "    .dataframe tbody tr th {\n",
       "        vertical-align: top;\n",
       "    }\n",
       "\n",
       "    .dataframe thead th {\n",
       "        text-align: right;\n",
       "    }\n",
       "</style>\n",
       "<table border=\"1\" class=\"dataframe\">\n",
       "  <thead>\n",
       "    <tr style=\"text-align: right;\">\n",
       "      <th></th>\n",
       "      <th>Actual Price</th>\n",
       "      <th>Predicted price by Linear Regression</th>\n",
       "      <th>predicted Price by Random Forest</th>\n",
       "      <th>predicted Price by Decision Tree</th>\n",
       "    </tr>\n",
       "  </thead>\n",
       "  <tbody>\n",
       "    <tr>\n",
       "      <th>8917</th>\n",
       "      <td>4495</td>\n",
       "      <td>4892.699954</td>\n",
       "      <td>3993.727500</td>\n",
       "      <td>4893</td>\n",
       "    </tr>\n",
       "    <tr>\n",
       "      <th>20172</th>\n",
       "      <td>8626</td>\n",
       "      <td>7329.273271</td>\n",
       "      <td>8653.940000</td>\n",
       "      <td>8295</td>\n",
       "    </tr>\n",
       "    <tr>\n",
       "      <th>2562</th>\n",
       "      <td>3210</td>\n",
       "      <td>3739.872186</td>\n",
       "      <td>3134.691667</td>\n",
       "      <td>2365</td>\n",
       "    </tr>\n",
       "    <tr>\n",
       "      <th>28447</th>\n",
       "      <td>671</td>\n",
       "      <td>942.123306</td>\n",
       "      <td>761.840667</td>\n",
       "      <td>671</td>\n",
       "    </tr>\n",
       "    <tr>\n",
       "      <th>1661</th>\n",
       "      <td>3024</td>\n",
       "      <td>3511.933228</td>\n",
       "      <td>2966.290000</td>\n",
       "      <td>2822</td>\n",
       "    </tr>\n",
       "    <tr>\n",
       "      <th>...</th>\n",
       "      <td>...</td>\n",
       "      <td>...</td>\n",
       "      <td>...</td>\n",
       "      <td>...</td>\n",
       "    </tr>\n",
       "    <tr>\n",
       "      <th>19418</th>\n",
       "      <td>8073</td>\n",
       "      <td>7615.421976</td>\n",
       "      <td>7222.745000</td>\n",
       "      <td>6125</td>\n",
       "    </tr>\n",
       "    <tr>\n",
       "      <th>39909</th>\n",
       "      <td>1104</td>\n",
       "      <td>888.319242</td>\n",
       "      <td>1188.107000</td>\n",
       "      <td>1154</td>\n",
       "    </tr>\n",
       "    <tr>\n",
       "      <th>49118</th>\n",
       "      <td>2066</td>\n",
       "      <td>2928.716855</td>\n",
       "      <td>2057.550000</td>\n",
       "      <td>2004</td>\n",
       "    </tr>\n",
       "    <tr>\n",
       "      <th>1787</th>\n",
       "      <td>3050</td>\n",
       "      <td>2817.296174</td>\n",
       "      <td>2729.200000</td>\n",
       "      <td>2338</td>\n",
       "    </tr>\n",
       "    <tr>\n",
       "      <th>23888</th>\n",
       "      <td>11986</td>\n",
       "      <td>9913.646531</td>\n",
       "      <td>12102.260000</td>\n",
       "      <td>11338</td>\n",
       "    </tr>\n",
       "  </tbody>\n",
       "</table>\n",
       "<p>10784 rows × 4 columns</p>\n",
       "</div>"
      ],
      "text/plain": [
       "       Actual Price  Predicted price by Linear Regression  \\\n",
       "8917           4495                           4892.699954   \n",
       "20172          8626                           7329.273271   \n",
       "2562           3210                           3739.872186   \n",
       "28447           671                            942.123306   \n",
       "1661           3024                           3511.933228   \n",
       "...             ...                                   ...   \n",
       "19418          8073                           7615.421976   \n",
       "39909          1104                            888.319242   \n",
       "49118          2066                           2928.716855   \n",
       "1787           3050                           2817.296174   \n",
       "23888         11986                           9913.646531   \n",
       "\n",
       "       predicted Price by Random Forest  predicted Price by Decision Tree  \n",
       "8917                        3993.727500                              4893  \n",
       "20172                       8653.940000                              8295  \n",
       "2562                        3134.691667                              2365  \n",
       "28447                        761.840667                               671  \n",
       "1661                        2966.290000                              2822  \n",
       "...                                 ...                               ...  \n",
       "19418                       7222.745000                              6125  \n",
       "39909                       1188.107000                              1154  \n",
       "49118                       2057.550000                              2004  \n",
       "1787                        2729.200000                              2338  \n",
       "23888                      12102.260000                             11338  \n",
       "\n",
       "[10784 rows x 4 columns]"
      ]
     },
     "execution_count": 30,
     "metadata": {},
     "output_type": "execute_result"
    }
   ],
   "source": [
    "Results= pd.DataFrame({ 'Actual Price': y_test,'Predicted price by Linear Regression':pred, 'predicted Price by Random Forest':pred2,\n",
    "                      'predicted Price by Decision Tree':pred3})\n",
    "Results"
   ]
  },
  {
   "cell_type": "markdown",
   "metadata": {},
   "source": [
    "# Fine Tuning The Model"
   ]
  },
  {
   "cell_type": "code",
   "execution_count": 31,
   "metadata": {
    "executionInfo": {
     "elapsed": 11406,
     "status": "ok",
     "timestamp": 1616000618162,
     "user": {
      "displayName": "Heyam Almahmoud",
      "photoUrl": "https://lh3.googleusercontent.com/a-/AOh14Gg3TdTa0oXRsh0QRwgJ47kD1bKUhrWz9hjUdC-yMg=s64",
      "userId": "04220665860273086704"
     },
     "user_tz": -120
    },
    "id": "HQQCTzeNFdBr"
   },
   "outputs": [],
   "source": [
    "from sklearn.model_selection import GridSearchCV"
   ]
  },
  {
   "cell_type": "code",
   "execution_count": 32,
   "metadata": {
    "colab": {
     "base_uri": "https://localhost:8080/"
    },
    "executionInfo": {
     "elapsed": 1004,
     "status": "ok",
     "timestamp": 1616005998487,
     "user": {
      "displayName": "Heyam Almahmoud",
      "photoUrl": "https://lh3.googleusercontent.com/a-/AOh14Gg3TdTa0oXRsh0QRwgJ47kD1bKUhrWz9hjUdC-yMg=s64",
      "userId": "04220665860273086704"
     },
     "user_tz": -120
    },
    "id": "xe7wwWoJKoTk",
    "outputId": "c14d4e43-3537-4ce3-f181-034d16338cff"
   },
   "outputs": [
    {
     "name": "stdout",
     "output_type": "stream",
     "text": [
      "<class 'pandas.core.frame.DataFrame'>\n",
      "Int64Index: 43136 entries, 4143 to 11596\n",
      "Data columns (total 7 columns):\n",
      " #   Column   Non-Null Count  Dtype  \n",
      "---  ------   --------------  -----  \n",
      " 0   carat    43136 non-null  float64\n",
      " 1   cut      43136 non-null  int64  \n",
      " 2   color    43136 non-null  int64  \n",
      " 3   clarity  43136 non-null  int64  \n",
      " 4   depth    43136 non-null  float64\n",
      " 5   table    43136 non-null  float64\n",
      " 6   volume   43136 non-null  float64\n",
      "dtypes: float64(4), int64(3)\n",
      "memory usage: 2.6 MB\n",
      "None\n",
      "count    43136.000000\n",
      "mean      3924.766089\n",
      "std       3975.472302\n",
      "min        326.000000\n",
      "25%        951.000000\n",
      "50%       2411.000000\n",
      "75%       5306.000000\n",
      "max      18823.000000\n",
      "Name: price, dtype: float64\n"
     ]
    }
   ],
   "source": [
    "print(x_train.info())\n",
    "print(y_train.describe())"
   ]
  },
  {
   "cell_type": "code",
   "execution_count": 55,
   "metadata": {
    "colab": {
     "base_uri": "https://localhost:8080/"
    },
    "executionInfo": {
     "elapsed": 86127,
     "status": "ok",
     "timestamp": 1616006099658,
     "user": {
      "displayName": "Heyam Almahmoud",
      "photoUrl": "https://lh3.googleusercontent.com/a-/AOh14Gg3TdTa0oXRsh0QRwgJ47kD1bKUhrWz9hjUdC-yMg=s64",
      "userId": "04220665860273086704"
     },
     "user_tz": -120
    },
    "id": "p2ktRGeDFdBr",
    "outputId": "847cc51c-a93f-4c35-d3b3-f7a347968869"
   },
   "outputs": [
    {
     "data": {
      "text/plain": [
       "GridSearchCV(cv=5, estimator=RandomForestRegressor(),\n",
       "             param_grid=[{'max_features': [2, 4, 6],\n",
       "                          'n_estimators': [3, 10, 30]},\n",
       "                         {'bootstrap': [False], 'max_features': [2, 3, 4],\n",
       "                          'n_estimators': [3, 10]}],\n",
       "             return_train_score=True, scoring='r2')"
      ]
     },
     "execution_count": 55,
     "metadata": {},
     "output_type": "execute_result"
    }
   ],
   "source": [
    "param_grid=[\n",
    "    {'n_estimators':[3,10,30],'max_features':[2,4,6]},\n",
    "    {'bootstrap':[False],'n_estimators':[3,10],'max_features':[2,3,4]},\n",
    "    ]\n",
    "grid_search=GridSearchCV(RFreg_model,param_grid,cv=5,scoring='r2',return_train_score=True)\n",
    "grid_search.fit(x_train,y_train)"
   ]
  },
  {
   "cell_type": "code",
   "execution_count": 56,
   "metadata": {
    "id": "nXbiDdDkFdBs"
   },
   "outputs": [
    {
     "data": {
      "text/plain": [
       "{'max_features': 4, 'n_estimators': 30}"
      ]
     },
     "execution_count": 56,
     "metadata": {},
     "output_type": "execute_result"
    }
   ],
   "source": [
    "grid_search.best_params_"
   ]
  },
  {
   "cell_type": "code",
   "execution_count": 58,
   "metadata": {},
   "outputs": [
    {
     "data": {
      "text/html": [
       "<div>\n",
       "<style scoped>\n",
       "    .dataframe tbody tr th:only-of-type {\n",
       "        vertical-align: middle;\n",
       "    }\n",
       "\n",
       "    .dataframe tbody tr th {\n",
       "        vertical-align: top;\n",
       "    }\n",
       "\n",
       "    .dataframe thead th {\n",
       "        text-align: right;\n",
       "    }\n",
       "</style>\n",
       "<table border=\"1\" class=\"dataframe\">\n",
       "  <thead>\n",
       "    <tr style=\"text-align: right;\">\n",
       "      <th></th>\n",
       "      <th>mean_fit_time</th>\n",
       "      <th>std_fit_time</th>\n",
       "      <th>mean_score_time</th>\n",
       "      <th>std_score_time</th>\n",
       "      <th>param_max_features</th>\n",
       "      <th>param_n_estimators</th>\n",
       "      <th>param_bootstrap</th>\n",
       "      <th>params</th>\n",
       "      <th>split0_test_score</th>\n",
       "      <th>split1_test_score</th>\n",
       "      <th>...</th>\n",
       "      <th>mean_test_score</th>\n",
       "      <th>std_test_score</th>\n",
       "      <th>rank_test_score</th>\n",
       "      <th>split0_train_score</th>\n",
       "      <th>split1_train_score</th>\n",
       "      <th>split2_train_score</th>\n",
       "      <th>split3_train_score</th>\n",
       "      <th>split4_train_score</th>\n",
       "      <th>mean_train_score</th>\n",
       "      <th>std_train_score</th>\n",
       "    </tr>\n",
       "  </thead>\n",
       "  <tbody>\n",
       "    <tr>\n",
       "      <th>0</th>\n",
       "      <td>0.348585</td>\n",
       "      <td>0.005352</td>\n",
       "      <td>0.021182</td>\n",
       "      <td>0.003383</td>\n",
       "      <td>2</td>\n",
       "      <td>3</td>\n",
       "      <td>NaN</td>\n",
       "      <td>{'max_features': 2, 'n_estimators': 3}</td>\n",
       "      <td>0.967542</td>\n",
       "      <td>0.968215</td>\n",
       "      <td>...</td>\n",
       "      <td>0.969454</td>\n",
       "      <td>0.001982</td>\n",
       "      <td>15</td>\n",
       "      <td>0.991115</td>\n",
       "      <td>0.991901</td>\n",
       "      <td>0.991840</td>\n",
       "      <td>0.991717</td>\n",
       "      <td>0.992803</td>\n",
       "      <td>0.991875</td>\n",
       "      <td>0.000541</td>\n",
       "    </tr>\n",
       "    <tr>\n",
       "      <th>1</th>\n",
       "      <td>1.097893</td>\n",
       "      <td>0.013116</td>\n",
       "      <td>0.061560</td>\n",
       "      <td>0.001918</td>\n",
       "      <td>2</td>\n",
       "      <td>10</td>\n",
       "      <td>NaN</td>\n",
       "      <td>{'max_features': 2, 'n_estimators': 10}</td>\n",
       "      <td>0.977963</td>\n",
       "      <td>0.976393</td>\n",
       "      <td>...</td>\n",
       "      <td>0.977791</td>\n",
       "      <td>0.001491</td>\n",
       "      <td>8</td>\n",
       "      <td>0.995636</td>\n",
       "      <td>0.995960</td>\n",
       "      <td>0.995281</td>\n",
       "      <td>0.995454</td>\n",
       "      <td>0.995742</td>\n",
       "      <td>0.995615</td>\n",
       "      <td>0.000234</td>\n",
       "    </tr>\n",
       "    <tr>\n",
       "      <th>2</th>\n",
       "      <td>3.261587</td>\n",
       "      <td>0.070347</td>\n",
       "      <td>0.173696</td>\n",
       "      <td>0.004722</td>\n",
       "      <td>2</td>\n",
       "      <td>30</td>\n",
       "      <td>NaN</td>\n",
       "      <td>{'max_features': 2, 'n_estimators': 30}</td>\n",
       "      <td>0.979485</td>\n",
       "      <td>0.977691</td>\n",
       "      <td>...</td>\n",
       "      <td>0.979229</td>\n",
       "      <td>0.001416</td>\n",
       "      <td>4</td>\n",
       "      <td>0.996773</td>\n",
       "      <td>0.996827</td>\n",
       "      <td>0.996753</td>\n",
       "      <td>0.996822</td>\n",
       "      <td>0.996727</td>\n",
       "      <td>0.996780</td>\n",
       "      <td>0.000039</td>\n",
       "    </tr>\n",
       "    <tr>\n",
       "      <th>3</th>\n",
       "      <td>0.498996</td>\n",
       "      <td>0.005804</td>\n",
       "      <td>0.022639</td>\n",
       "      <td>0.002196</td>\n",
       "      <td>4</td>\n",
       "      <td>3</td>\n",
       "      <td>NaN</td>\n",
       "      <td>{'max_features': 4, 'n_estimators': 3}</td>\n",
       "      <td>0.975583</td>\n",
       "      <td>0.972897</td>\n",
       "      <td>...</td>\n",
       "      <td>0.974057</td>\n",
       "      <td>0.000873</td>\n",
       "      <td>12</td>\n",
       "      <td>0.993137</td>\n",
       "      <td>0.993096</td>\n",
       "      <td>0.993158</td>\n",
       "      <td>0.993905</td>\n",
       "      <td>0.993328</td>\n",
       "      <td>0.993325</td>\n",
       "      <td>0.000301</td>\n",
       "    </tr>\n",
       "    <tr>\n",
       "      <th>4</th>\n",
       "      <td>1.631130</td>\n",
       "      <td>0.006865</td>\n",
       "      <td>0.060142</td>\n",
       "      <td>0.003673</td>\n",
       "      <td>4</td>\n",
       "      <td>10</td>\n",
       "      <td>NaN</td>\n",
       "      <td>{'max_features': 4, 'n_estimators': 10}</td>\n",
       "      <td>0.980827</td>\n",
       "      <td>0.976768</td>\n",
       "      <td>...</td>\n",
       "      <td>0.979530</td>\n",
       "      <td>0.001622</td>\n",
       "      <td>3</td>\n",
       "      <td>0.996345</td>\n",
       "      <td>0.996210</td>\n",
       "      <td>0.996006</td>\n",
       "      <td>0.996282</td>\n",
       "      <td>0.996259</td>\n",
       "      <td>0.996220</td>\n",
       "      <td>0.000116</td>\n",
       "    </tr>\n",
       "    <tr>\n",
       "      <th>5</th>\n",
       "      <td>4.875993</td>\n",
       "      <td>0.037514</td>\n",
       "      <td>0.173476</td>\n",
       "      <td>0.002709</td>\n",
       "      <td>4</td>\n",
       "      <td>30</td>\n",
       "      <td>NaN</td>\n",
       "      <td>{'max_features': 4, 'n_estimators': 30}</td>\n",
       "      <td>0.981691</td>\n",
       "      <td>0.978894</td>\n",
       "      <td>...</td>\n",
       "      <td>0.980778</td>\n",
       "      <td>0.001253</td>\n",
       "      <td>1</td>\n",
       "      <td>0.997020</td>\n",
       "      <td>0.997099</td>\n",
       "      <td>0.996967</td>\n",
       "      <td>0.997067</td>\n",
       "      <td>0.997053</td>\n",
       "      <td>0.997041</td>\n",
       "      <td>0.000045</td>\n",
       "    </tr>\n",
       "    <tr>\n",
       "      <th>6</th>\n",
       "      <td>0.667014</td>\n",
       "      <td>0.009387</td>\n",
       "      <td>0.021668</td>\n",
       "      <td>0.001910</td>\n",
       "      <td>6</td>\n",
       "      <td>3</td>\n",
       "      <td>NaN</td>\n",
       "      <td>{'max_features': 6, 'n_estimators': 3}</td>\n",
       "      <td>0.975643</td>\n",
       "      <td>0.973250</td>\n",
       "      <td>...</td>\n",
       "      <td>0.974743</td>\n",
       "      <td>0.001412</td>\n",
       "      <td>10</td>\n",
       "      <td>0.993393</td>\n",
       "      <td>0.993501</td>\n",
       "      <td>0.993800</td>\n",
       "      <td>0.993580</td>\n",
       "      <td>0.993743</td>\n",
       "      <td>0.993603</td>\n",
       "      <td>0.000151</td>\n",
       "    </tr>\n",
       "    <tr>\n",
       "      <th>7</th>\n",
       "      <td>2.156013</td>\n",
       "      <td>0.011463</td>\n",
       "      <td>0.059828</td>\n",
       "      <td>0.001626</td>\n",
       "      <td>6</td>\n",
       "      <td>10</td>\n",
       "      <td>NaN</td>\n",
       "      <td>{'max_features': 6, 'n_estimators': 10}</td>\n",
       "      <td>0.980109</td>\n",
       "      <td>0.977881</td>\n",
       "      <td>...</td>\n",
       "      <td>0.979123</td>\n",
       "      <td>0.001161</td>\n",
       "      <td>5</td>\n",
       "      <td>0.996244</td>\n",
       "      <td>0.996344</td>\n",
       "      <td>0.996188</td>\n",
       "      <td>0.996332</td>\n",
       "      <td>0.996205</td>\n",
       "      <td>0.996263</td>\n",
       "      <td>0.000064</td>\n",
       "    </tr>\n",
       "    <tr>\n",
       "      <th>8</th>\n",
       "      <td>6.470082</td>\n",
       "      <td>0.351733</td>\n",
       "      <td>0.170577</td>\n",
       "      <td>0.002813</td>\n",
       "      <td>6</td>\n",
       "      <td>30</td>\n",
       "      <td>NaN</td>\n",
       "      <td>{'max_features': 6, 'n_estimators': 30}</td>\n",
       "      <td>0.981330</td>\n",
       "      <td>0.978444</td>\n",
       "      <td>...</td>\n",
       "      <td>0.980301</td>\n",
       "      <td>0.001351</td>\n",
       "      <td>2</td>\n",
       "      <td>0.996950</td>\n",
       "      <td>0.997050</td>\n",
       "      <td>0.996882</td>\n",
       "      <td>0.997036</td>\n",
       "      <td>0.997052</td>\n",
       "      <td>0.996994</td>\n",
       "      <td>0.000068</td>\n",
       "    </tr>\n",
       "    <tr>\n",
       "      <th>9</th>\n",
       "      <td>0.512600</td>\n",
       "      <td>0.113066</td>\n",
       "      <td>0.021609</td>\n",
       "      <td>0.005431</td>\n",
       "      <td>2</td>\n",
       "      <td>3</td>\n",
       "      <td>False</td>\n",
       "      <td>{'bootstrap': False, 'max_features': 2, 'n_est...</td>\n",
       "      <td>0.973139</td>\n",
       "      <td>0.971979</td>\n",
       "      <td>...</td>\n",
       "      <td>0.972171</td>\n",
       "      <td>0.001399</td>\n",
       "      <td>14</td>\n",
       "      <td>0.999940</td>\n",
       "      <td>0.999940</td>\n",
       "      <td>0.999944</td>\n",
       "      <td>0.999945</td>\n",
       "      <td>0.999942</td>\n",
       "      <td>0.999942</td>\n",
       "      <td>0.000002</td>\n",
       "    </tr>\n",
       "    <tr>\n",
       "      <th>10</th>\n",
       "      <td>1.594954</td>\n",
       "      <td>0.201289</td>\n",
       "      <td>0.061591</td>\n",
       "      <td>0.014580</td>\n",
       "      <td>2</td>\n",
       "      <td>10</td>\n",
       "      <td>False</td>\n",
       "      <td>{'bootstrap': False, 'max_features': 2, 'n_est...</td>\n",
       "      <td>0.978257</td>\n",
       "      <td>0.975615</td>\n",
       "      <td>...</td>\n",
       "      <td>0.977586</td>\n",
       "      <td>0.001310</td>\n",
       "      <td>9</td>\n",
       "      <td>0.999940</td>\n",
       "      <td>0.999940</td>\n",
       "      <td>0.999944</td>\n",
       "      <td>0.999945</td>\n",
       "      <td>0.999942</td>\n",
       "      <td>0.999942</td>\n",
       "      <td>0.000002</td>\n",
       "    </tr>\n",
       "    <tr>\n",
       "      <th>11</th>\n",
       "      <td>0.676181</td>\n",
       "      <td>0.063045</td>\n",
       "      <td>0.023697</td>\n",
       "      <td>0.002596</td>\n",
       "      <td>3</td>\n",
       "      <td>3</td>\n",
       "      <td>False</td>\n",
       "      <td>{'bootstrap': False, 'max_features': 3, 'n_est...</td>\n",
       "      <td>0.973970</td>\n",
       "      <td>0.971925</td>\n",
       "      <td>...</td>\n",
       "      <td>0.973941</td>\n",
       "      <td>0.001345</td>\n",
       "      <td>13</td>\n",
       "      <td>0.999940</td>\n",
       "      <td>0.999940</td>\n",
       "      <td>0.999944</td>\n",
       "      <td>0.999945</td>\n",
       "      <td>0.999942</td>\n",
       "      <td>0.999942</td>\n",
       "      <td>0.000002</td>\n",
       "    </tr>\n",
       "    <tr>\n",
       "      <th>12</th>\n",
       "      <td>2.081867</td>\n",
       "      <td>0.052057</td>\n",
       "      <td>0.066636</td>\n",
       "      <td>0.003317</td>\n",
       "      <td>3</td>\n",
       "      <td>10</td>\n",
       "      <td>False</td>\n",
       "      <td>{'bootstrap': False, 'max_features': 3, 'n_est...</td>\n",
       "      <td>0.979781</td>\n",
       "      <td>0.977116</td>\n",
       "      <td>...</td>\n",
       "      <td>0.978687</td>\n",
       "      <td>0.001398</td>\n",
       "      <td>6</td>\n",
       "      <td>0.999940</td>\n",
       "      <td>0.999940</td>\n",
       "      <td>0.999944</td>\n",
       "      <td>0.999945</td>\n",
       "      <td>0.999942</td>\n",
       "      <td>0.999942</td>\n",
       "      <td>0.000002</td>\n",
       "    </tr>\n",
       "    <tr>\n",
       "      <th>13</th>\n",
       "      <td>0.755968</td>\n",
       "      <td>0.008351</td>\n",
       "      <td>0.023147</td>\n",
       "      <td>0.001578</td>\n",
       "      <td>4</td>\n",
       "      <td>3</td>\n",
       "      <td>False</td>\n",
       "      <td>{'bootstrap': False, 'max_features': 4, 'n_est...</td>\n",
       "      <td>0.975389</td>\n",
       "      <td>0.972707</td>\n",
       "      <td>...</td>\n",
       "      <td>0.974361</td>\n",
       "      <td>0.001269</td>\n",
       "      <td>11</td>\n",
       "      <td>0.999940</td>\n",
       "      <td>0.999940</td>\n",
       "      <td>0.999944</td>\n",
       "      <td>0.999945</td>\n",
       "      <td>0.999942</td>\n",
       "      <td>0.999942</td>\n",
       "      <td>0.000002</td>\n",
       "    </tr>\n",
       "    <tr>\n",
       "      <th>14</th>\n",
       "      <td>2.473865</td>\n",
       "      <td>0.008450</td>\n",
       "      <td>0.065548</td>\n",
       "      <td>0.001159</td>\n",
       "      <td>4</td>\n",
       "      <td>10</td>\n",
       "      <td>False</td>\n",
       "      <td>{'bootstrap': False, 'max_features': 4, 'n_est...</td>\n",
       "      <td>0.979487</td>\n",
       "      <td>0.977202</td>\n",
       "      <td>...</td>\n",
       "      <td>0.978584</td>\n",
       "      <td>0.001322</td>\n",
       "      <td>7</td>\n",
       "      <td>0.999940</td>\n",
       "      <td>0.999940</td>\n",
       "      <td>0.999944</td>\n",
       "      <td>0.999945</td>\n",
       "      <td>0.999942</td>\n",
       "      <td>0.999942</td>\n",
       "      <td>0.000002</td>\n",
       "    </tr>\n",
       "  </tbody>\n",
       "</table>\n",
       "<p>15 rows × 23 columns</p>\n",
       "</div>"
      ],
      "text/plain": [
       "    mean_fit_time  std_fit_time  mean_score_time  std_score_time  \\\n",
       "0        0.348585      0.005352         0.021182        0.003383   \n",
       "1        1.097893      0.013116         0.061560        0.001918   \n",
       "2        3.261587      0.070347         0.173696        0.004722   \n",
       "3        0.498996      0.005804         0.022639        0.002196   \n",
       "4        1.631130      0.006865         0.060142        0.003673   \n",
       "5        4.875993      0.037514         0.173476        0.002709   \n",
       "6        0.667014      0.009387         0.021668        0.001910   \n",
       "7        2.156013      0.011463         0.059828        0.001626   \n",
       "8        6.470082      0.351733         0.170577        0.002813   \n",
       "9        0.512600      0.113066         0.021609        0.005431   \n",
       "10       1.594954      0.201289         0.061591        0.014580   \n",
       "11       0.676181      0.063045         0.023697        0.002596   \n",
       "12       2.081867      0.052057         0.066636        0.003317   \n",
       "13       0.755968      0.008351         0.023147        0.001578   \n",
       "14       2.473865      0.008450         0.065548        0.001159   \n",
       "\n",
       "   param_max_features param_n_estimators param_bootstrap  \\\n",
       "0                   2                  3             NaN   \n",
       "1                   2                 10             NaN   \n",
       "2                   2                 30             NaN   \n",
       "3                   4                  3             NaN   \n",
       "4                   4                 10             NaN   \n",
       "5                   4                 30             NaN   \n",
       "6                   6                  3             NaN   \n",
       "7                   6                 10             NaN   \n",
       "8                   6                 30             NaN   \n",
       "9                   2                  3           False   \n",
       "10                  2                 10           False   \n",
       "11                  3                  3           False   \n",
       "12                  3                 10           False   \n",
       "13                  4                  3           False   \n",
       "14                  4                 10           False   \n",
       "\n",
       "                                               params  split0_test_score  \\\n",
       "0              {'max_features': 2, 'n_estimators': 3}           0.967542   \n",
       "1             {'max_features': 2, 'n_estimators': 10}           0.977963   \n",
       "2             {'max_features': 2, 'n_estimators': 30}           0.979485   \n",
       "3              {'max_features': 4, 'n_estimators': 3}           0.975583   \n",
       "4             {'max_features': 4, 'n_estimators': 10}           0.980827   \n",
       "5             {'max_features': 4, 'n_estimators': 30}           0.981691   \n",
       "6              {'max_features': 6, 'n_estimators': 3}           0.975643   \n",
       "7             {'max_features': 6, 'n_estimators': 10}           0.980109   \n",
       "8             {'max_features': 6, 'n_estimators': 30}           0.981330   \n",
       "9   {'bootstrap': False, 'max_features': 2, 'n_est...           0.973139   \n",
       "10  {'bootstrap': False, 'max_features': 2, 'n_est...           0.978257   \n",
       "11  {'bootstrap': False, 'max_features': 3, 'n_est...           0.973970   \n",
       "12  {'bootstrap': False, 'max_features': 3, 'n_est...           0.979781   \n",
       "13  {'bootstrap': False, 'max_features': 4, 'n_est...           0.975389   \n",
       "14  {'bootstrap': False, 'max_features': 4, 'n_est...           0.979487   \n",
       "\n",
       "    split1_test_score  ...  mean_test_score  std_test_score  rank_test_score  \\\n",
       "0            0.968215  ...         0.969454        0.001982               15   \n",
       "1            0.976393  ...         0.977791        0.001491                8   \n",
       "2            0.977691  ...         0.979229        0.001416                4   \n",
       "3            0.972897  ...         0.974057        0.000873               12   \n",
       "4            0.976768  ...         0.979530        0.001622                3   \n",
       "5            0.978894  ...         0.980778        0.001253                1   \n",
       "6            0.973250  ...         0.974743        0.001412               10   \n",
       "7            0.977881  ...         0.979123        0.001161                5   \n",
       "8            0.978444  ...         0.980301        0.001351                2   \n",
       "9            0.971979  ...         0.972171        0.001399               14   \n",
       "10           0.975615  ...         0.977586        0.001310                9   \n",
       "11           0.971925  ...         0.973941        0.001345               13   \n",
       "12           0.977116  ...         0.978687        0.001398                6   \n",
       "13           0.972707  ...         0.974361        0.001269               11   \n",
       "14           0.977202  ...         0.978584        0.001322                7   \n",
       "\n",
       "    split0_train_score  split1_train_score  split2_train_score  \\\n",
       "0             0.991115            0.991901            0.991840   \n",
       "1             0.995636            0.995960            0.995281   \n",
       "2             0.996773            0.996827            0.996753   \n",
       "3             0.993137            0.993096            0.993158   \n",
       "4             0.996345            0.996210            0.996006   \n",
       "5             0.997020            0.997099            0.996967   \n",
       "6             0.993393            0.993501            0.993800   \n",
       "7             0.996244            0.996344            0.996188   \n",
       "8             0.996950            0.997050            0.996882   \n",
       "9             0.999940            0.999940            0.999944   \n",
       "10            0.999940            0.999940            0.999944   \n",
       "11            0.999940            0.999940            0.999944   \n",
       "12            0.999940            0.999940            0.999944   \n",
       "13            0.999940            0.999940            0.999944   \n",
       "14            0.999940            0.999940            0.999944   \n",
       "\n",
       "    split3_train_score  split4_train_score  mean_train_score  std_train_score  \n",
       "0             0.991717            0.992803          0.991875         0.000541  \n",
       "1             0.995454            0.995742          0.995615         0.000234  \n",
       "2             0.996822            0.996727          0.996780         0.000039  \n",
       "3             0.993905            0.993328          0.993325         0.000301  \n",
       "4             0.996282            0.996259          0.996220         0.000116  \n",
       "5             0.997067            0.997053          0.997041         0.000045  \n",
       "6             0.993580            0.993743          0.993603         0.000151  \n",
       "7             0.996332            0.996205          0.996263         0.000064  \n",
       "8             0.997036            0.997052          0.996994         0.000068  \n",
       "9             0.999945            0.999942          0.999942         0.000002  \n",
       "10            0.999945            0.999942          0.999942         0.000002  \n",
       "11            0.999945            0.999942          0.999942         0.000002  \n",
       "12            0.999945            0.999942          0.999942         0.000002  \n",
       "13            0.999945            0.999942          0.999942         0.000002  \n",
       "14            0.999945            0.999942          0.999942         0.000002  \n",
       "\n",
       "[15 rows x 23 columns]"
      ]
     },
     "execution_count": 58,
     "metadata": {},
     "output_type": "execute_result"
    }
   ],
   "source": [
    "df=pd.DataFrame(grid_search.cv_results_)\n",
    "df"
   ]
  },
  {
   "cell_type": "code",
   "execution_count": 59,
   "metadata": {},
   "outputs": [
    {
     "data": {
      "text/html": [
       "<div>\n",
       "<style scoped>\n",
       "    .dataframe tbody tr th:only-of-type {\n",
       "        vertical-align: middle;\n",
       "    }\n",
       "\n",
       "    .dataframe tbody tr th {\n",
       "        vertical-align: top;\n",
       "    }\n",
       "\n",
       "    .dataframe thead th {\n",
       "        text-align: right;\n",
       "    }\n",
       "</style>\n",
       "<table border=\"1\" class=\"dataframe\">\n",
       "  <thead>\n",
       "    <tr style=\"text-align: right;\">\n",
       "      <th></th>\n",
       "      <th>param_max_features</th>\n",
       "      <th>param_n_estimators</th>\n",
       "      <th>mean_test_score</th>\n",
       "    </tr>\n",
       "  </thead>\n",
       "  <tbody>\n",
       "    <tr>\n",
       "      <th>0</th>\n",
       "      <td>2</td>\n",
       "      <td>3</td>\n",
       "      <td>0.969454</td>\n",
       "    </tr>\n",
       "    <tr>\n",
       "      <th>1</th>\n",
       "      <td>2</td>\n",
       "      <td>10</td>\n",
       "      <td>0.977791</td>\n",
       "    </tr>\n",
       "    <tr>\n",
       "      <th>2</th>\n",
       "      <td>2</td>\n",
       "      <td>30</td>\n",
       "      <td>0.979229</td>\n",
       "    </tr>\n",
       "    <tr>\n",
       "      <th>3</th>\n",
       "      <td>4</td>\n",
       "      <td>3</td>\n",
       "      <td>0.974057</td>\n",
       "    </tr>\n",
       "    <tr>\n",
       "      <th>4</th>\n",
       "      <td>4</td>\n",
       "      <td>10</td>\n",
       "      <td>0.979530</td>\n",
       "    </tr>\n",
       "    <tr>\n",
       "      <th>5</th>\n",
       "      <td>4</td>\n",
       "      <td>30</td>\n",
       "      <td>0.980778</td>\n",
       "    </tr>\n",
       "    <tr>\n",
       "      <th>6</th>\n",
       "      <td>6</td>\n",
       "      <td>3</td>\n",
       "      <td>0.974743</td>\n",
       "    </tr>\n",
       "    <tr>\n",
       "      <th>7</th>\n",
       "      <td>6</td>\n",
       "      <td>10</td>\n",
       "      <td>0.979123</td>\n",
       "    </tr>\n",
       "    <tr>\n",
       "      <th>8</th>\n",
       "      <td>6</td>\n",
       "      <td>30</td>\n",
       "      <td>0.980301</td>\n",
       "    </tr>\n",
       "    <tr>\n",
       "      <th>9</th>\n",
       "      <td>2</td>\n",
       "      <td>3</td>\n",
       "      <td>0.972171</td>\n",
       "    </tr>\n",
       "    <tr>\n",
       "      <th>10</th>\n",
       "      <td>2</td>\n",
       "      <td>10</td>\n",
       "      <td>0.977586</td>\n",
       "    </tr>\n",
       "    <tr>\n",
       "      <th>11</th>\n",
       "      <td>3</td>\n",
       "      <td>3</td>\n",
       "      <td>0.973941</td>\n",
       "    </tr>\n",
       "    <tr>\n",
       "      <th>12</th>\n",
       "      <td>3</td>\n",
       "      <td>10</td>\n",
       "      <td>0.978687</td>\n",
       "    </tr>\n",
       "    <tr>\n",
       "      <th>13</th>\n",
       "      <td>4</td>\n",
       "      <td>3</td>\n",
       "      <td>0.974361</td>\n",
       "    </tr>\n",
       "    <tr>\n",
       "      <th>14</th>\n",
       "      <td>4</td>\n",
       "      <td>10</td>\n",
       "      <td>0.978584</td>\n",
       "    </tr>\n",
       "  </tbody>\n",
       "</table>\n",
       "</div>"
      ],
      "text/plain": [
       "   param_max_features param_n_estimators  mean_test_score\n",
       "0                   2                  3         0.969454\n",
       "1                   2                 10         0.977791\n",
       "2                   2                 30         0.979229\n",
       "3                   4                  3         0.974057\n",
       "4                   4                 10         0.979530\n",
       "5                   4                 30         0.980778\n",
       "6                   6                  3         0.974743\n",
       "7                   6                 10         0.979123\n",
       "8                   6                 30         0.980301\n",
       "9                   2                  3         0.972171\n",
       "10                  2                 10         0.977586\n",
       "11                  3                  3         0.973941\n",
       "12                  3                 10         0.978687\n",
       "13                  4                  3         0.974361\n",
       "14                  4                 10         0.978584"
      ]
     },
     "execution_count": 59,
     "metadata": {},
     "output_type": "execute_result"
    }
   ],
   "source": [
    "df[['param_max_features','param_n_estimators','mean_test_score']] \n",
    "# best combination is 4 features and 30 estimators "
   ]
  },
  {
   "cell_type": "code",
   "execution_count": 63,
   "metadata": {},
   "outputs": [
    {
     "name": "stdout",
     "output_type": "stream",
     "text": [
      "score = 0.9826488212293288\n",
      " rmse = 531.3833521610829\n"
     ]
    }
   ],
   "source": [
    "final_model= grid_search.best_estimator_\n",
    "final_predictions=final_model.predict(x_test)\n",
    "final_mse=mean_squared_error(y_test,final_predictions)\n",
    "final_rmse=np.sqrt(final_mse)\n",
    "final_r2= r2_score(y_test,final_predictions)\n",
    "print(f'score = {final_r2}')\n",
    "print(f' rmse = {final_rmse}')"
   ]
  },
  {
   "cell_type": "markdown",
   "metadata": {},
   "source": [
    "### using grid search we obtained better results for our accuracy and rmse "
   ]
  }
 ],
 "metadata": {
  "colab": {
   "collapsed_sections": [],
   "name": "diamonds- last .ipynb",
   "provenance": []
  },
  "kernelspec": {
   "display_name": "Python 3",
   "language": "python",
   "name": "python3"
  },
  "language_info": {
   "codemirror_mode": {
    "name": "ipython",
    "version": 3
   },
   "file_extension": ".py",
   "mimetype": "text/x-python",
   "name": "python",
   "nbconvert_exporter": "python",
   "pygments_lexer": "ipython3",
   "version": "3.8.5"
  }
 },
 "nbformat": 4,
 "nbformat_minor": 1
}
